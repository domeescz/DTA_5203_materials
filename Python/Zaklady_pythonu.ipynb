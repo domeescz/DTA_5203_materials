{
 "cells": [
  {
   "cell_type": "markdown",
   "metadata": {
    "id": "GSBB77X95WT_"
   },
   "source": [
    "#### **Proměnná**\n",
    "\n",
    "- Proměnná slouží pro uchování hodnoty, kterou jí přiřadíme.\n",
    "- Můžeme si jí představit jako `nádobu`, do které něco uložíme a pak pracujeme s celou tou nádobou (například necháme ve výrobě její podobu 10x vytisknout)\n",
    "\n",
    "**Proměnná se skládá ze 3 částí:**\n",
    "1. *Název proměnné*\n",
    "2. *Přiřazovací operátor (=)*\n",
    "3. *Hodnota proměnné*\n",
    "\n",
    "- Do proměnné můžeme přiřadit cokoliv. Nejjednoduším příkladem je přiřazení textového stringu anebo integeru.\n",
    "- Do proměnné však můžeme přiřazovat později i složitější operace - např. matematické\n",
    "\n",
    "**Proměnné usnadňují:**\n",
    "1. **Přehlednost** - *Například `vyska = 170` je jasnější než použití čísla `170` přímo v kódu, kde bys musel hádat, co to číslo znamená*\n",
    "\n",
    "2. **Opakované použití** - *Když máš uloženou hodnotu v proměnné, můžeš ji použít na mnoha místech ve svém programu, aniž bys musel hodnotu znovu zadávat nebo vypočítávat.*\n",
    "\n",
    "3. **Flexibilitu** - *Můžeš snadno aktualizovat hodnotu uloženou v proměnné, což je užitečné například v situacích, kdy se tvoje data mění v průběhu času nebo na základě uživatelského vstupu.*\n",
    "\n",
    "4. **Manipulaci s daty** - *Proměnné ti umožňují provádět operace s daty, jako jsou matematické výpočty, textové manipulace a mnoho dalšího, a výsledky těchto operací můžeš opět ukládat do proměnných.*"
   ]
  },
  {
   "cell_type": "code",
   "execution_count": 57,
   "metadata": {},
   "outputs": [
    {
     "name": "stdout",
     "output_type": "stream",
     "text": [
      "Ostrava\n",
      "ostrava\n"
     ]
    }
   ],
   "source": [
    "mesto = \"OSTRAVA\" # string\n",
    "\n",
    "mesto_spravne = mesto.capitalize()\n",
    "mesto_male = mesto.lower()\n",
    "\n",
    "print(mesto_spravne)\n",
    "print(mesto_male)"
   ]
  },
  {
   "cell_type": "code",
   "execution_count": 48,
   "metadata": {},
   "outputs": [
    {
     "name": "stdout",
     "output_type": "stream",
     "text": [
      "15\n"
     ]
    }
   ],
   "source": [
    "x = 5\n",
    "y = 10\n",
    "\n",
    "z = x + y\n",
    "\n",
    "print(z)"
   ]
  },
  {
   "cell_type": "code",
   "execution_count": 26,
   "metadata": {},
   "outputs": [],
   "source": [
    "znamka_matika = 5 # integer - celé číslo\n",
    "tema_lekce = 'Python - API'\n",
    "lekce_cislo = 3"
   ]
  },
  {
   "cell_type": "code",
   "execution_count": 27,
   "metadata": {},
   "outputs": [
    {
     "name": "stdout",
     "output_type": "stream",
     "text": [
      "Dneska máme lekci číslo: 3 a téma lekce je: Python - API\n"
     ]
    }
   ],
   "source": [
    "print(f'Dneska máme lekci číslo: {lekce_cislo} a téma lekce je: {tema_lekce}')"
   ]
  },
  {
   "cell_type": "code",
   "execution_count": 28,
   "metadata": {},
   "outputs": [
    {
     "name": "stdout",
     "output_type": "stream",
     "text": [
      "5\n"
     ]
    }
   ],
   "source": [
    "print(znamka_matika)    # Výpis na výstup -> funkce print()"
   ]
  },
  {
   "cell_type": "code",
   "execution_count": 29,
   "metadata": {},
   "outputs": [
    {
     "data": {
      "text/plain": [
       "str"
      ]
     },
     "execution_count": 29,
     "metadata": {},
     "output_type": "execute_result"
    }
   ],
   "source": [
    "type(tema_lekce)   # Ověřit a vypsat datový typ proměnné"
   ]
  },
  {
   "cell_type": "code",
   "execution_count": 30,
   "metadata": {
    "ExecuteTime": {
     "end_time": "2024-11-16T08:54:50.210956Z",
     "start_time": "2024-11-16T08:54:50.205339Z"
    }
   },
   "outputs": [
    {
     "name": "stdout",
     "output_type": "stream",
     "text": [
      "SQL kurz  má 8 lekcí\n",
      "SQL kurz  má 8 lekcí\n"
     ]
    }
   ],
   "source": [
    "text = \"SQL kurz\"\n",
    "pocet_lekci = \"8\"\n",
    "\n",
    "print(text + ' ' + ' má ' + pocet_lekci + ' lekcí')\n",
    "print(text + ' ' + ' má ' + pocet_lekci + ' lekcí')"
   ]
  },
  {
   "cell_type": "code",
   "execution_count": 31,
   "metadata": {},
   "outputs": [
    {
     "name": "stdout",
     "output_type": "stream",
     "text": [
      "Prostředí mám kompletně nastaveno.\n"
     ]
    }
   ],
   "source": [
    "print('Prostředí mám kompletně nastaveno.')"
   ]
  },
  {
   "cell_type": "code",
   "execution_count": 32,
   "metadata": {
    "ExecuteTime": {
     "end_time": "2024-11-16T08:58:39.154613Z",
     "start_time": "2024-11-16T08:58:39.151171Z"
    },
    "id": "F15orsMn6grp"
   },
   "outputs": [
    {
     "name": "stdout",
     "output_type": "stream",
     "text": [
      "5\n"
     ]
    }
   ],
   "source": [
    "# Vytvoření proměnné s hodnotou 5 a její vypsání\n",
    "jednoducha_promenna = 5\n",
    "print(jednoducha_promenna)"
   ]
  },
  {
   "cell_type": "code",
   "execution_count": 33,
   "metadata": {},
   "outputs": [],
   "source": [
    "# Přetypování proměnné na datový typ float \n",
    "jednoducha_promenna = float(jednoducha_promenna)"
   ]
  },
  {
   "cell_type": "code",
   "execution_count": 34,
   "metadata": {},
   "outputs": [
    {
     "data": {
      "text/plain": [
       "float"
      ]
     },
     "execution_count": 34,
     "metadata": {},
     "output_type": "execute_result"
    }
   ],
   "source": [
    "# Vypíše nám datový typ proměnné \n",
    "type(jednoducha_promenna)"
   ]
  },
  {
   "cell_type": "code",
   "execution_count": 35,
   "metadata": {},
   "outputs": [
    {
     "name": "stdout",
     "output_type": "stream",
     "text": [
      "5.0\n"
     ]
    }
   ],
   "source": [
    "# vypíšeme proměnnou\n",
    "print(jednoducha_promenna)"
   ]
  },
  {
   "cell_type": "code",
   "execution_count": 36,
   "metadata": {},
   "outputs": [],
   "source": [
    "# Zadávání vstupu a uložení do proměnné\n",
    "uzivatelsky_vstup = input('Zadej číslo: ')"
   ]
  },
  {
   "cell_type": "code",
   "execution_count": 37,
   "metadata": {},
   "outputs": [
    {
     "name": "stdout",
     "output_type": "stream",
     "text": [
      "5\n"
     ]
    }
   ],
   "source": [
    "# Vypsání proměnné s naším vstupem\n",
    "print(uzivatelsky_vstup)"
   ]
  },
  {
   "cell_type": "code",
   "execution_count": 38,
   "metadata": {},
   "outputs": [
    {
     "data": {
      "text/plain": [
       "str"
      ]
     },
     "execution_count": 38,
     "metadata": {},
     "output_type": "execute_result"
    }
   ],
   "source": [
    "# Vypsání datového typu proměnné\n",
    "type(uzivatelsky_vstup)"
   ]
  },
  {
   "cell_type": "code",
   "execution_count": 39,
   "metadata": {},
   "outputs": [],
   "source": [
    "# Přetypování na int (celočíselná hodnota)\n",
    "uzivatelsky_vstup = int(uzivatelsky_vstup)"
   ]
  },
  {
   "cell_type": "code",
   "execution_count": 40,
   "metadata": {},
   "outputs": [
    {
     "data": {
      "text/plain": [
       "int"
      ]
     },
     "execution_count": 40,
     "metadata": {},
     "output_type": "execute_result"
    }
   ],
   "source": [
    "# Vypsání datového typu\n",
    "type(uzivatelsky_vstup)"
   ]
  },
  {
   "cell_type": "code",
   "execution_count": 41,
   "metadata": {
    "ExecuteTime": {
     "end_time": "2024-11-16T09:16:34.554476Z",
     "start_time": "2024-11-16T09:16:34.551498Z"
    }
   },
   "outputs": [],
   "source": [
    "promenna = \"text\" # str, string"
   ]
  },
  {
   "cell_type": "code",
   "execution_count": 42,
   "metadata": {
    "ExecuteTime": {
     "end_time": "2024-11-16T09:08:55.513587Z",
     "start_time": "2024-11-16T09:08:55.511700Z"
    }
   },
   "outputs": [],
   "source": [
    "ciselna_promenna = 100 # int, integer"
   ]
  },
  {
   "cell_type": "code",
   "execution_count": 43,
   "metadata": {
    "ExecuteTime": {
     "end_time": "2024-11-16T09:05:28.094475Z",
     "start_time": "2024-11-16T09:05:28.092688Z"
    }
   },
   "outputs": [],
   "source": [
    "ciselna_promenna_desetinne = 100.0503554450 # float"
   ]
  },
  {
   "cell_type": "code",
   "execution_count": 44,
   "metadata": {
    "ExecuteTime": {
     "end_time": "2024-11-16T09:06:40.616287Z",
     "start_time": "2024-11-16T09:06:40.610673Z"
    }
   },
   "outputs": [],
   "source": [
    "logicka_hodnota = False"
   ]
  },
  {
   "cell_type": "code",
   "execution_count": 45,
   "metadata": {
    "ExecuteTime": {
     "end_time": "2024-11-16T09:13:24.375861Z",
     "start_time": "2024-11-16T09:13:24.371194Z"
    }
   },
   "outputs": [
    {
     "name": "stdout",
     "output_type": "stream",
     "text": [
      "<class 'int'>\n",
      "<class 'float'>\n",
      "<class 'bool'>\n"
     ]
    }
   ],
   "source": [
    "print(type(ciselna_promenna))\n",
    "print(type(ciselna_promenna_desetinne))\n",
    "print(type(logicka_hodnota))"
   ]
  },
  {
   "cell_type": "code",
   "execution_count": 46,
   "metadata": {
    "ExecuteTime": {
     "end_time": "2024-11-16T09:18:15.218204Z",
     "start_time": "2024-11-16T09:18:15.211624Z"
    }
   },
   "outputs": [
    {
     "name": "stdout",
     "output_type": "stream",
     "text": [
      "Text\n"
     ]
    }
   ],
   "source": [
    "print(promenna.capitalize())"
   ]
  },
  {
   "cell_type": "code",
   "execution_count": 47,
   "metadata": {
    "ExecuteTime": {
     "end_time": "2024-11-16T09:12:05.557051Z",
     "start_time": "2024-11-16T09:12:05.540703Z"
    }
   },
   "outputs": [
    {
     "ename": "AttributeError",
     "evalue": "'int' object has no attribute 'capitalize'",
     "output_type": "error",
     "traceback": [
      "\u001b[0;31m---------------------------------------------------------------------------\u001b[0m",
      "\u001b[0;31mAttributeError\u001b[0m                            Traceback (most recent call last)",
      "Cell \u001b[0;32mIn[47], line 1\u001b[0m\n\u001b[0;32m----> 1\u001b[0m ciselna_promenna\u001b[38;5;241m.\u001b[39mcapitalize()\n",
      "\u001b[0;31mAttributeError\u001b[0m: 'int' object has no attribute 'capitalize'"
     ]
    }
   ],
   "source": [
    "ciselna_promenna.capitalize()"
   ]
  },
  {
   "cell_type": "markdown",
   "metadata": {
    "id": "csPW5L6lrQ8J"
   },
   "source": [
    "## Datové typy\n",
    "---\n",
    "**Programovací stavební kameny**:\n",
    "\n",
    "1.   Datové typy\n",
    "2.   Syntaxe (funkce, podmínky, smyčky...)\n",
    "3.   Knihovny (math, pandas, numpy)\n",
    "\n",
    "#### **Základní datové typy**\n",
    "\n",
    "1. `int` - celočíselná hodnota\n",
    "2. `float` - číselná hodnota s plovoucí desetinnou čárkou\n",
    "3. `string` - řetězec, sekvence znaků\n",
    "4. `bool` - logická hodnota, nabývá 2 hodnot - `True`, `False`\n",
    "\n",
    "\n",
    "\n"
   ]
  },
  {
   "cell_type": "code",
   "execution_count": 76,
   "metadata": {},
   "outputs": [
    {
     "name": "stdout",
     "output_type": "stream",
     "text": [
      "V Pythonu jsme pokročilí\n"
     ]
    }
   ],
   "source": [
    "lekce_cislo = int(\"5\")\n",
    "\n",
    "if lekce_cislo < 4:\n",
    "    # Logika, která se provede, když je podmínka vyhodnocena jako pravdivá\n",
    "    print('Začínáme s Pythonem')\n",
    "else:\n",
    "    print('V Pythonu jsme pokročilí')\n"
   ]
  },
  {
   "cell_type": "code",
   "execution_count": 65,
   "metadata": {},
   "outputs": [
    {
     "name": "stdout",
     "output_type": "stream",
     "text": [
      "Krabička je true\n"
     ]
    }
   ],
   "source": [
    "# Logika pomocí if statementů\n",
    "krabicka = True\n",
    "\n",
    "if krabicka: # True\n",
    "    print('Krabička je true')\n",
    "else: # False\n",
    "    print('Krabička není True')\n",
    "    "
   ]
  },
  {
   "cell_type": "markdown",
   "metadata": {},
   "source": [
    "### BOOL - logická hodnota"
   ]
  },
  {
   "cell_type": "code",
   "execution_count": 61,
   "metadata": {
    "ExecuteTime": {
     "end_time": "2024-11-16T09:53:24.514056Z",
     "start_time": "2024-11-16T09:53:24.510427Z"
    }
   },
   "outputs": [
    {
     "data": {
      "text/plain": [
       "bool"
      ]
     },
     "execution_count": 61,
     "metadata": {},
     "output_type": "execute_result"
    }
   ],
   "source": [
    "validace = True\n",
    "\n",
    "type(validace)"
   ]
  },
  {
   "cell_type": "code",
   "execution_count": null,
   "metadata": {
    "ExecuteTime": {
     "end_time": "2024-11-16T09:52:17.396606Z",
     "start_time": "2024-11-16T09:52:17.394665Z"
    }
   },
   "outputs": [],
   "source": [
    "# Definice nové funkce\n",
    "def kontroluj_podminku():\n",
    "    if (validace is True):\n",
    "        print(\"Proměnná validace je nastavena na True.\")\n",
    "    else:\n",
    "        print(\"Proměnná `validace` je nastavena na False.\")"
   ]
  },
  {
   "cell_type": "code",
   "execution_count": null,
   "metadata": {
    "ExecuteTime": {
     "end_time": "2024-11-16T09:53:42.823467Z",
     "start_time": "2024-11-16T09:53:42.821285Z"
    }
   },
   "outputs": [],
   "source": [
    "validace = True # Proměnnou validace nastavuji na True\n",
    "kontroluj_podminku() # Volám funkci"
   ]
  },
  {
   "cell_type": "code",
   "execution_count": 77,
   "metadata": {
    "ExecuteTime": {
     "end_time": "2024-11-16T09:59:32.564327Z",
     "start_time": "2024-11-16T09:59:32.528966Z"
    }
   },
   "outputs": [
    {
     "name": "stdout",
     "output_type": "stream",
     "text": [
      "Hodnota proměnné a je opravdu 10\n"
     ]
    }
   ],
   "source": [
    "# Nastavuju hodnotu proměnné a na 5\n",
    "a = 10\n",
    "\n",
    "# Kontroluju, zda se hodnota proměnné a rovná pěti\n",
    "if a == 5:\n",
    "    print('Hodnota proměnné a je opravdu 5') # False\n",
    "elif a == 6:\n",
    "    print('Hodnota proměnné a je opravdu 6') # False\n",
    "elif a == 10:\n",
    "    print('Hodnota proměnné a je opravdu 10') # True\n",
    "else:\n",
    "    print('Hodnota proměnné není 5')"
   ]
  },
  {
   "cell_type": "code",
   "execution_count": 83,
   "metadata": {
    "ExecuteTime": {
     "end_time": "2024-11-16T10:01:26.203529Z",
     "start_time": "2024-11-16T10:01:26.200429Z"
    }
   },
   "outputs": [
    {
     "name": "stdout",
     "output_type": "stream",
     "text": [
      "True\n"
     ]
    }
   ],
   "source": [
    "# IF logika přímo v print funkci (vypíše True nebo False)\n",
    "a = 10\n",
    "b = 10\n",
    "c = a == b\n",
    "\n",
    "print(c)"
   ]
  },
  {
   "cell_type": "code",
   "execution_count": 85,
   "metadata": {
    "ExecuteTime": {
     "end_time": "2024-11-16T10:06:22.622998Z",
     "start_time": "2024-11-16T10:06:22.620343Z"
    }
   },
   "outputs": [
    {
     "name": "stdout",
     "output_type": "stream",
     "text": [
      "Automatické plánování je zapnuto, posílám objednávky do plánovače ...\n"
     ]
    }
   ],
   "source": [
    "# Pobočka Praha\n",
    "planovani_automaticky = True \n",
    "\n",
    "if planovani_automaticky is True:\n",
    "    print('Automatické plánování je zapnuto, posílám objednávky do plánovače ...')\n",
    "        \n",
    "elif planovani_automaticky is False:\n",
    "    print('Automatické plánování je vypnuto, je nutné zaplánovat objednávky ručně...')"
   ]
  },
  {
   "cell_type": "code",
   "execution_count": 89,
   "metadata": {
    "ExecuteTime": {
     "end_time": "2024-11-16T10:09:27.649339Z",
     "start_time": "2024-11-16T10:09:27.646746Z"
    }
   },
   "outputs": [
    {
     "name": "stdout",
     "output_type": "stream",
     "text": [
      "Špatné hodnocení\n"
     ]
    }
   ],
   "source": [
    "znamka = 4\n",
    "\n",
    "if znamka < 4:\n",
    "    print('Dobré hodnocení')\n",
    "else:\n",
    "    print('Špatné hodnocení')"
   ]
  },
  {
   "cell_type": "code",
   "execution_count": null,
   "metadata": {
    "ExecuteTime": {
     "end_time": "2024-11-16T10:09:50.993044Z",
     "start_time": "2024-11-16T10:09:50.988329Z"
    },
    "id": "OSkuTlRVtBdX"
   },
   "outputs": [],
   "source": [
    "# Vytvoření proměnné datového typu float\n",
    "desetinne = 10.5\n",
    "type(desetinne)"
   ]
  },
  {
   "cell_type": "code",
   "execution_count": null,
   "metadata": {
    "ExecuteTime": {
     "end_time": "2024-11-16T10:10:01.792111Z",
     "start_time": "2024-11-16T10:10:01.788691Z"
    },
    "id": "R3iVhhoEtBDI"
   },
   "outputs": [],
   "source": [
    "# Vytvoření proměnné datového typu string\n",
    "retezec = 'a1156362@@@'\n",
    "type(retezec)"
   ]
  },
  {
   "cell_type": "code",
   "execution_count": null,
   "metadata": {
    "ExecuteTime": {
     "end_time": "2024-11-16T10:10:07.864129Z",
     "start_time": "2024-11-16T10:10:07.860196Z"
    },
    "id": "vO_WYXRNtDHW"
   },
   "outputs": [],
   "source": [
    "# Vytvoření proměnné datového typu boolean\n",
    "logicka = True\n",
    "type(logicka)"
   ]
  },
  {
   "cell_type": "markdown",
   "metadata": {
    "id": "bWi67AqrtM3d"
   },
   "source": [
    "#### **Složitější datové typy**\n",
    "\n",
    "1. `list` - seznam, kolekce hodnot, které můžou být různých typů (mutable)\n",
    "2. `tuple` - neměnná (immutable) sekvence hodnot\n",
    "3. `dictionary` - kolekce dvojic klíč-hodnota\n",
    "4. `set` - neseřazená kolekce jedinečných hodnot (neobsahuje duplicity)\n"
   ]
  },
  {
   "cell_type": "markdown",
   "metadata": {},
   "source": [
    "##### Slovník"
   ]
  },
  {
   "cell_type": "code",
   "execution_count": 57,
   "metadata": {},
   "outputs": [
    {
     "data": {
      "text/html": [
       "<div>\n",
       "<style scoped>\n",
       "    .dataframe tbody tr th:only-of-type {\n",
       "        vertical-align: middle;\n",
       "    }\n",
       "\n",
       "    .dataframe tbody tr th {\n",
       "        vertical-align: top;\n",
       "    }\n",
       "\n",
       "    .dataframe thead th {\n",
       "        text-align: right;\n",
       "    }\n",
       "</style>\n",
       "<table border=\"1\" class=\"dataframe\">\n",
       "  <thead>\n",
       "    <tr style=\"text-align: right;\">\n",
       "      <th></th>\n",
       "      <th>vek</th>\n",
       "      <th>barva_oci</th>\n",
       "      <th>misto_narozeni</th>\n",
       "    </tr>\n",
       "  </thead>\n",
       "  <tbody>\n",
       "    <tr>\n",
       "      <th>0</th>\n",
       "      <td>35</td>\n",
       "      <td>zelena</td>\n",
       "      <td>Praha</td>\n",
       "    </tr>\n",
       "    <tr>\n",
       "      <th>1</th>\n",
       "      <td>45</td>\n",
       "      <td>hneda</td>\n",
       "      <td>Ostrava</td>\n",
       "    </tr>\n",
       "    <tr>\n",
       "      <th>2</th>\n",
       "      <td>25</td>\n",
       "      <td>modra</td>\n",
       "      <td>Kolín</td>\n",
       "    </tr>\n",
       "  </tbody>\n",
       "</table>\n",
       "</div>"
      ],
      "text/plain": [
       "   vek barva_oci misto_narozeni\n",
       "0   35    zelena          Praha\n",
       "1   45     hneda        Ostrava\n",
       "2   25     modra          Kolín"
      ]
     },
     "execution_count": 57,
     "metadata": {},
     "output_type": "execute_result"
    }
   ],
   "source": [
    "zamestnanec = {\n",
    "    \"id\": 1,\n",
    "    \"jmeno\": \"Dominik\",\n",
    "    \"prijmeni\": \"Šmída\",\n",
    "    \"adresa\": \"Brno\"\n",
    "}\n",
    "\n",
    "clovek = {\n",
    "    \"vek\": 35,\n",
    "    \"barva_oci\": \"zelena\",\n",
    "    \"misto_narozeni\": \"Praha\"\n",
    "}\n",
    "\n",
    "# Tabulka clovek\n",
    "lide = [\n",
    "    {\"vek\": 35, \"barva_oci\": \"zelena\", \"misto_narozeni\": \"Praha\"},\n",
    "    {\"vek\": 45, \"barva_oci\": \"hneda\", \"misto_narozeni\": \"Ostrava\"},\n",
    "    {\"vek\": 25, \"barva_oci\": \"modra\", \"misto_narozeni\": \"Kolín\"},\n",
    "]\n",
    "\n",
    "import pandas as pd\n",
    "df = pd.DataFrame(lide)\n",
    "\n",
    "df.head()"
   ]
  },
  {
   "cell_type": "code",
   "execution_count": 74,
   "metadata": {},
   "outputs": [],
   "source": [
    "# česko-anglický slovník\n",
    "slovnik = {\n",
    "    \"pes\": \"dog\",\n",
    "    \"kocka\": \"cat\"\n",
    "}\n",
    "\n",
    "slovnik.get('kockopes')     # metoda .get() -> ziskani hodnoty pro dany klic\n",
    "slovnik['kocka']            # indexace na klíč -> neporadi si s neexistujicim klicem\n",
    "slovnik.items()             # vrací dvojice hodnot\n",
    "slovnik.values()            # vrací hodnoty\n",
    "slovnik.keys()              # vrací klíče\n",
    "slovnik.update({\"auto\": \"car\"}) # vytváří novou dvojici / aktualizuje hodnotu\n",
    "slovnik.update({\"pes\": [\"Dog\", \"dog\"]})"
   ]
  },
  {
   "cell_type": "code",
   "execution_count": 75,
   "metadata": {},
   "outputs": [
    {
     "data": {
      "text/plain": [
       "{'pes': ['Dog', 'dog'], 'kocka': 'cat', 'auto': 'car'}"
      ]
     },
     "execution_count": 75,
     "metadata": {},
     "output_type": "execute_result"
    }
   ],
   "source": [
    "slovnik"
   ]
  },
  {
   "cell_type": "code",
   "execution_count": 84,
   "metadata": {},
   "outputs": [
    {
     "name": "stdout",
     "output_type": "stream",
     "text": [
      "Klic: pes\n",
      "Hodnota: ['Dog', 'dog']\n",
      "\n",
      "Klic: kocka\n",
      "Hodnota: cat\n",
      "\n",
      "Klic: auto\n",
      "Hodnota: car\n",
      "\n"
     ]
    }
   ],
   "source": [
    "for dvojice in slovnik.items():\n",
    "    print(f'Klic: {dvojice[0]}') # vzdy klic\n",
    "    print(f'Hodnota: {dvojice[1]}\\n') # vzdy hodnota"
   ]
  },
  {
   "cell_type": "code",
   "execution_count": 83,
   "metadata": {},
   "outputs": [
    {
     "name": "stdout",
     "output_type": "stream",
     "text": [
      "Klíč: pes, hodnota: ['Dog', 'dog']\n",
      "\n",
      "Klíč: kocka, hodnota: cat\n",
      "\n",
      "Klíč: auto, hodnota: car\n",
      "\n"
     ]
    }
   ],
   "source": [
    "for klic, hodnota in slovnik.items():\n",
    "    print(f'Klíč: {klic}, hodnota: {hodnota}\\n')"
   ]
  },
  {
   "cell_type": "code",
   "execution_count": null,
   "metadata": {},
   "outputs": [],
   "source": [
    "zamestnanec = {\n",
    "    \"jmeno\": \"Aleš\",\n",
    "    \"prijmeni\": \"Python\",\n",
    "    \"vek\": 35,\n",
    "    \"deti\": [\n",
    "        {\n",
    "            \"jmeno\": \"Ondřej\", \n",
    "            \"vek\": 2\n",
    "        },\n",
    "        {\n",
    "            \"jmeno\": \"Eliška\", \n",
    "            \"vek\": 5\n",
    "        }\n",
    "    ]\n",
    "}"
   ]
  },
  {
   "cell_type": "code",
   "execution_count": 10,
   "metadata": {},
   "outputs": [],
   "source": [
    "produkt = {\n",
    "    \"nazev\": \"CocaCola\",\n",
    "    \"dostupnost\": 50,\n",
    "    \"jednotka\": \"ks\",\n",
    "    \"hodnoceni\": [\n",
    "        {\n",
    "            \"kategorie\": \"*\",\n",
    "            \"pocet\": 10\n",
    "        },\n",
    "        {\n",
    "            \"kategorie\": \"**\",\n",
    "            \"pocet\": 5\n",
    "        },\n",
    "        {\n",
    "            \"kategorie\": \"***\",\n",
    "            \"pocet\": 30\n",
    "        },\n",
    "        {\n",
    "            \"kategorie\": \"****\",\n",
    "            \"pocet\": 100\n",
    "        },\n",
    "        {\n",
    "            \"kategorie\": \"*****\",\n",
    "            \"pocet\": 250\n",
    "        },\n",
    "        {\n",
    "            \"kategorie\": \"******\",\n",
    "            \"pocet\": 25\n",
    "        }\n",
    "    ]\n",
    "}"
   ]
  },
  {
   "cell_type": "code",
   "execution_count": 101,
   "metadata": {},
   "outputs": [
    {
     "name": "stdout",
     "output_type": "stream",
     "text": [
      "Počet hvězdiček: *, počet hodnocení: 10\n",
      "Počet hvězdiček: **, počet hodnocení: 5\n",
      "Počet hvězdiček: ***, počet hodnocení: 30\n",
      "Počet hvězdiček: ****, počet hodnocení: 100\n",
      "Počet hvězdiček: *****, počet hodnocení: 250\n"
     ]
    }
   ],
   "source": [
    "# získat název produktu\n",
    "nazev_produktu = produkt.get('nazev')\n",
    "\n",
    "dostupnost = produkt.get('dostupnost')\n",
    "\n",
    "hodnoceni = produkt.get('hodnoceni')\n",
    "\n",
    "for kategorie in hodnoceni:\n",
    "    pocet_hodnoceni = kategorie.get('pocet')\n",
    "    pocet_hvezdicek = kategorie.get('kategorie')\n",
    "    print(f'Počet hvězdiček: {pocet_hvezdicek}, počet hodnocení: {pocet_hodnoceni}')\n"
   ]
  },
  {
   "cell_type": "code",
   "execution_count": 11,
   "metadata": {},
   "outputs": [
    {
     "name": "stdout",
     "output_type": "stream",
     "text": [
      "420\n"
     ]
    }
   ],
   "source": [
    "# Získejte sumu všech hodnocení produktu\n",
    "\n",
    "from pprint import pprint   # může pomoct s hezčím vypsáním slovníku na výstup - pretty print\n",
    "# pprint(produkt)\n",
    "\n",
    "suma_hodnoceni = 0  # Inicializace promenne suma_hodnoceni s nastavenim hodnoty na 0\n",
    "\n",
    "for hodnoceni in produkt.get('hodnoceni'):\n",
    "    pocet_hodnoceni = hodnoceni.get('pocet')\n",
    "    suma_hodnoceni += pocet_hodnoceni   # Pricitam pocet z aktualni kategorie do celkove sumy\n",
    "\n",
    "print(suma_hodnoceni)"
   ]
  },
  {
   "cell_type": "code",
   "execution_count": 13,
   "metadata": {},
   "outputs": [
    {
     "data": {
      "text/plain": [
       "'Alex'"
      ]
     },
     "execution_count": 13,
     "metadata": {},
     "output_type": "execute_result"
    }
   ],
   "source": [
    "clovek = {\n",
    "    \"jmeno\": \"Alex\",\n",
    "    \"prijmeni\": \"Osička\",\n",
    "    \"vek\": 29\n",
    "}\n",
    "\n",
    "# Získat věk\n",
    "clovek.get('vek')\n",
    "\n",
    "# Získat jméno\n",
    "clovek.get('jmeno')"
   ]
  },
  {
   "cell_type": "code",
   "execution_count": 14,
   "metadata": {},
   "outputs": [
    {
     "data": {
      "text/plain": [
       "20000"
      ]
     },
     "execution_count": 14,
     "metadata": {},
     "output_type": "execute_result"
    }
   ],
   "source": [
    "byty_zlin = {\n",
    "    \"id\": 1,\n",
    "    \"dispozice\": \"4+1\",\n",
    "    \"velikost\": 80,\n",
    "    \"cena\": 20000\n",
    "}\n",
    "\n",
    "# Získat cenu \n",
    "byty_zlin.get('cena')"
   ]
  },
  {
   "cell_type": "code",
   "execution_count": null,
   "metadata": {},
   "outputs": [
    {
     "name": "stdout",
     "output_type": "stream",
     "text": [
      "{'id': 1, 'dispozice': '2+1', 'velikost': 80, 'cena': 20000}\n",
      "{'id': 4, 'dispozice': '5+1', 'velikost': 80, 'cena': 20000}\n",
      "{'id': 3, 'dispozice': '4+1', 'velikost': 80, 'cena': 20000}\n"
     ]
    }
   ],
   "source": [
    "byty_zlin = [\n",
    "    {\n",
    "        \"id\": 1,\n",
    "        \"dispozice\": \"2+1\",\n",
    "        \"velikost\": 80,\n",
    "        \"cena\": 20000\n",
    "    },\n",
    "    {\n",
    "        \"id\": 2,\n",
    "        \"dispozice\": \"2+1\",\n",
    "        \"velikost\": 63,\n",
    "        \"cena\": 17000\n",
    "    }\n",
    "]\n",
    "\n",
    "# Získat cenu každé inzerce\n",
    "for byt in byty_zlin:\n",
    "    cena = byt.get('cena')\n",
    "    #print(cena)\n",
    "\n",
    "# Najít inzerci, která má cenu 20000\n",
    "# Technický: Najít takový slovník, který má v klíči cena hodnotu 20000\n",
    "for byt in byty_zlin:\n",
    "    if byt.get('cena') == 20000:\n",
    "        print(byt)"
   ]
  },
  {
   "cell_type": "code",
   "execution_count": null,
   "metadata": {},
   "outputs": [
    {
     "name": "stdout",
     "output_type": "stream",
     "text": [
      "Průměrný počet hypoték za posledních 5 let je: 261666.66666666666.\n"
     ]
    }
   ],
   "source": [
    "# Počet hypoték v jednotlivých letech - průzkum\n",
    "hypoteky = [\n",
    "    {\n",
    "        \"rok\": 2020,\n",
    "        \"pocet_hypotek\": 250000\n",
    "    },\n",
    "    {\n",
    "        \"rok\": 2021,\n",
    "        \"pocet_hypotek\": 275000\n",
    "    },\n",
    "    {\n",
    "        \"rok\": 2022,\n",
    "        \"pocet_hypotek\": 225000\n",
    "    },\n",
    "    {\n",
    "        \"rok\": 2023,\n",
    "        \"pocet_hypotek\": 300000\n",
    "    },\n",
    "    {\n",
    "        \"rok\": 2024,\n",
    "        \"pocet_hypotek\": 320000\n",
    "    },\n",
    "    {\n",
    "        \"rok\": 2025,\n",
    "        \"pocet_hypotek\": 200000\n",
    "    }\n",
    "]\n",
    "\n",
    "pocet_hypotek = []\n",
    "\n",
    "# Spočítat průměrný počet hypoték\n",
    "for hypoteka in hypoteky:\n",
    "    # Získat hodnotu klice pocet_hypotek\n",
    "    pocet_hypotek.append(hypoteka.get('pocet_hypotek'))\n",
    "\n",
    "prumerny_pocet_hypotek = sum(pocet_hypotek) / len(pocet_hypotek)\n",
    "\n",
    "print(f'Průměrný počet hypoték za posledních 5 let je: {prumerny_pocet_hypotek}.')"
   ]
  },
  {
   "cell_type": "code",
   "execution_count": 29,
   "metadata": {},
   "outputs": [
    {
     "data": {
      "text/plain": [
       "261666.66666666666"
      ]
     },
     "execution_count": 29,
     "metadata": {},
     "output_type": "execute_result"
    }
   ],
   "source": [
    "# Přístup přes knihovnu Pandas\n",
    "import pandas as pd\n",
    "\n",
    "df = pd.DataFrame(hypoteky)\n",
    "\n",
    "df['pocet_hypotek'].mean()"
   ]
  },
  {
   "cell_type": "code",
   "execution_count": 33,
   "metadata": {},
   "outputs": [],
   "source": [
    "kurz = {\n",
    "    \"nazev\": \"Kurz Datové analytiky\",\n",
    "    \"pocet_studentu\": 22,\n",
    "    \"datum_zacatku\": \"2025-09-01\",\n",
    "    \"datum_konce\": \"2026-01-01\"\n",
    "}\n",
    "\n",
    "# Vytvořte proměnné, do kterých uložíte:\n",
    "# 1. Získat hodnotu klíče název\n",
    "nazev_kurzu = kurz.get('nazev')\n",
    "# 2. Získat počet studentů\n",
    "pocet_studentu = kurz.get('pocet_studentu')\n",
    "# 3. Získat datum začátku kurzu\n",
    "datum_zacatku = kurz.get('datum_zacatku')"
   ]
  },
  {
   "cell_type": "code",
   "execution_count": null,
   "metadata": {},
   "outputs": [],
   "source": [
    "kurzy = [\n",
    "    {\n",
    "        \"nazev\": \"Kurz Datové analytiky\",\n",
    "        \"pocet_studentu\": 22,\n",
    "        \"datum_zacatku\": \"2025-09-01\",\n",
    "        \"datum_konce\": \"2026-01-01\"\n",
    "    },\n",
    "    {\n",
    "        \"nazev\": \"Kurz Pythonu\",\n",
    "        \"pocet_studentu\": 15,\n",
    "        \"datum_zacatku\": \"2025-05-01\",\n",
    "        \"datum_konce\": \"2026-02-01\"\n",
    "    },\n",
    "    {\n",
    "        \"nazev\": \"Kurz Excelu\",\n",
    "        \"pocet_studentu\": 52,\n",
    "        \"datum_zacatku\": \"2025-06-01\",\n",
    "        \"datum_konce\": \"2025-08-01\"\n",
    "    }\n",
    "]\n",
    "\n",
    "for kurz in kurzy:\n",
    "    nazev_kurzu = kurz.get('nazev')\n",
    "    pocet_studentu = kurz.get('pocet_studentu')\n",
    "    datum_zacatku = kurz.get('datum_zacatku')\n",
    "\n",
    "    print(nazev_kurzu)\n",
    "    print(pocet_studentu)\n",
    "    print(datum_zacatku)\n",
    "\n",
    "# Pro každý kurz vypište:\n",
    "# 1. Název kurzu\n",
    "# 2. Počet studentů\n",
    "# 3. Datum začátku kurzu"
   ]
  },
  {
   "cell_type": "code",
   "execution_count": null,
   "metadata": {},
   "outputs": [
    {
     "name": "stdout",
     "output_type": "stream",
     "text": [
      "{'id': 1, 'nazev': 'Coca-Cola', 'rok_vyroby': '2025', 'cena': 32}\n"
     ]
    }
   ],
   "source": [
    "import json\n",
    "\n",
    "with open('testovaci_data.json', 'r') as file: # kontextový manažer\n",
    "    data = json.load(file)\n",
    "\n",
    "print(data)"
   ]
  },
  {
   "cell_type": "markdown",
   "metadata": {},
   "source": [
    "#### Zpracování externího `json` souboru a jeho následná analýza"
   ]
  },
  {
   "cell_type": "code",
   "execution_count": null,
   "metadata": {},
   "outputs": [],
   "source": [
    "import json\n",
    "from pprint import pprint\n",
    "\n",
    "# Otevřít .json soubor a uložit do proměnné data (dictionary)\n",
    "with open('products_response.json', 'r') as file:\n",
    "    data = json.load(file) # deserializace - json -> dictioanry\n",
    "\n",
    "# Příklad č. 1 -> vypsat název a kategorii každého produktu\n",
    "for produkt in data.get('products'):\n",
    "    nazev_produktu = produkt.get('name')\n",
    "    kategorie = produkt.get('category')\n",
    "    cena = produkt.get('price')\n",
    "\n",
    "    print(f\"\"\"\n",
    "    Název produktu: {nazev_produktu},\n",
    "    Kategorie: {kategorie},\n",
    "    Cena: {cena}\n",
    "          \\n\"\"\")"
   ]
  },
  {
   "cell_type": "code",
   "execution_count": 61,
   "metadata": {},
   "outputs": [
    {
     "name": "stdout",
     "output_type": "stream",
     "text": [
      "Dostupné produkty: ['Bezdrátová myš Logitech MX Master 3S', 'Monitor Dell UltraSharp U2723QE']\n",
      "Dostupných produktů: 2 ks\n",
      "\n",
      "Nedostupné produkty: ['Mechanická klávesnice Keychron K6']\n",
      "Nedostupných produktů: 1 ks\n"
     ]
    }
   ],
   "source": [
    "# Příklad č. 2 -> vypsat, které produkty jsou skladem a které jsou nedostupné\n",
    "dostupne_produkty = []\n",
    "nedostupne_produkty = []\n",
    "\n",
    "for produkt in data.get('products'):\n",
    "    nazev_produktu = produkt.get('name') # získám název produktu\n",
    "    if produkt.get('in_stock'):\n",
    "        # udělej něco - vlož název produktu do listu dostupne_produkty\n",
    "        dostupne_produkty.append(nazev_produktu)\n",
    "    else:\n",
    "        # udělej něco - vlož název produktu do listu nedostupny_produkty\n",
    "        nedostupne_produkty.append(nazev_produktu)\n",
    "\n",
    "print(f'Dostupné produkty: {dostupne_produkty}\\nDostupných produktů: {len(dostupne_produkty)} ks\\n')\n",
    "print(f'Nedostupné produkty: {nedostupne_produkty}\\nNedostupných produktů: {len(nedostupne_produkty)} ks')\n"
   ]
  },
  {
   "cell_type": "code",
   "execution_count": null,
   "metadata": {},
   "outputs": [
    {
     "data": {
      "text/plain": [
       "in_stock\n",
       "False    1\n",
       "True     2\n",
       "Name: in_stock, dtype: int64"
      ]
     },
     "execution_count": 70,
     "metadata": {},
     "output_type": "execute_result"
    }
   ],
   "source": [
    "produkty = data.get('products')\n",
    "import pandas as pd\n",
    "\n",
    "df = pd.DataFrame(produkty)\n",
    "df.head() # select count(1) as pocet, in_stock from produkty group by in_stock\n",
    "df.groupby('in_stock')['in_stock'].count()"
   ]
  },
  {
   "cell_type": "code",
   "execution_count": 75,
   "metadata": {},
   "outputs": [
    {
     "name": "stdout",
     "output_type": "stream",
     "text": [
      "Průměrná cena spoje je: 422,-\n"
     ]
    }
   ],
   "source": [
    "# Příklad č. 1 - zjistit průměrnou cenu spojů \n",
    "spoje = [\n",
    "    {\n",
    "        \"od\": \"Praha\",\n",
    "        \"do\": \"Brno\",\n",
    "        \"odjezd\": \"14:50\",\n",
    "        \"cena\": 365\n",
    "    },\n",
    "    {\n",
    "        \"od\": \"Ostrava\",\n",
    "        \"do\": \"Brno\",\n",
    "        \"odjezd\": \"15:30\",\n",
    "        \"cena\": 250\n",
    "    },\n",
    "    {\n",
    "        \"od\": \"Praha\",\n",
    "        \"do\": \"Ostrava\",\n",
    "        \"odjezd\": \"10:00\",\n",
    "        \"cena\": 650\n",
    "    }\n",
    "]\n",
    "\n",
    "ceny_spoju = []\n",
    "\n",
    "for spoj in spoje:\n",
    "    cena = spoj.get('cena')\n",
    "    ceny_spoju.append(cena)\n",
    "\n",
    "prumerna_cena = sum(ceny_spoju) / len(ceny_spoju)\n",
    "\n",
    "print(f'Průměrná cena spoje je: {round(prumerna_cena)},-')"
   ]
  },
  {
   "cell_type": "code",
   "execution_count": 82,
   "metadata": {},
   "outputs": [
    {
     "name": "stdout",
     "output_type": "stream",
     "text": [
      "Vlak vyráží z Prahy, stojí: 365,- a odjíždí v 14:50 hod směr Brno.\n",
      "Vlak vyráží z Prahy, stojí: 650,- a odjíždí v 10:00 hod směr Ostrava.\n"
     ]
    }
   ],
   "source": [
    "spoje = [\n",
    "    {\n",
    "        \"od\": \"Praha\",\n",
    "        \"do\": \"Brno\",\n",
    "        \"odjezd\": \"14:50\",\n",
    "        \"cena\": 365\n",
    "    },\n",
    "    {\n",
    "        \"od\": \"Ostrava\",\n",
    "        \"do\": \"Brno\",\n",
    "        \"odjezd\": \"15:30\",\n",
    "        \"cena\": 250\n",
    "    },\n",
    "    {\n",
    "        \"od\": \"Praha\",\n",
    "        \"do\": \"Ostrava\",\n",
    "        \"odjezd\": \"10:00\",\n",
    "        \"cena\": 650\n",
    "    }\n",
    "]\n",
    "\n",
    "# Projděte každý spoj a pokud vyráží z Prahy, pak na výstup napište ,,Tento spoj vyráží z Prahy (a stojí XY Kč) v XX:YY hod\", \n",
    "# pokud ne, nepište nic.\n",
    "\n",
    "for spoj in spoje:\n",
    "    if spoj.get('od').capitalize() == 'Praha':\n",
    "        print(f'Vlak vyráží z Prahy, stojí: {spoj.get('cena')},- a odjíždí v {spoj.get('odjezd')} hod směr {spoj.get('do')}.')"
   ]
  },
  {
   "cell_type": "code",
   "execution_count": null,
   "metadata": {},
   "outputs": [
    {
     "name": "stdout",
     "output_type": "stream",
     "text": [
      "Počet dostupných silničních kol je: 1 kus\n",
      "Počet dostupných horských kol je: 2 kus\n",
      "\n",
      "Dostupnější kategorie jsou: Horské kola\n"
     ]
    }
   ],
   "source": [
    "produkty = [\n",
    "    {\n",
    "        \"nazev\": \"Canyon X15\",\n",
    "        \"kategorie\": \"Silniční\",\n",
    "        \"je_skladem\": True,\n",
    "        \"cena\": 75000\n",
    "    },\n",
    "    {\n",
    "        \"nazev\": \"Canyon Dirt 55\",\n",
    "        \"kategorie\": \"Horské\",\n",
    "        \"je_skladem\": True,\n",
    "        \"cena\": 90000\n",
    "    },\n",
    "    {\n",
    "        \"nazev\": \"Giant ZT90\",\n",
    "        \"kategorie\": \"Silniční\",\n",
    "        \"je_skladem\": False,\n",
    "        \"cena\": 50000,\n",
    "    },\n",
    "    {\n",
    "        \"nazev\": \"Merida TrailSpeed5\",\n",
    "        \"kategorie\": \"Horské\",\n",
    "        \"je_skladem\": True,\n",
    "        \"cena\": 120000\n",
    "    }\n",
    "]\n",
    "\n",
    "dostupne_silnicni = 0\n",
    "dostupne_horske = 0\n",
    "\n",
    "for produkt in produkty:\n",
    "    if produkt.get('je_skladem'):\n",
    "        # ZKontrolovat, o jakou kategorii se jedná a na základě toho povýšit počítadlo\n",
    "        if produkt.get('kategorie') == 'Horské':\n",
    "            dostupne_horske += 1\n",
    "        elif produkt.get('kategorie') == 'Silniční':\n",
    "            dostupne_silnicni += 1\n",
    "\n",
    "print(f'Počet dostupných silničních kol je: {dostupne_silnicni} kus')\n",
    "print(f'Počet dostupných horských kol je: {dostupne_horske} kus\\n')\n",
    "\n",
    "nejdostupnejsi_kategorie = \"Silniční\" if dostupne_silnicni > dostupne_horske else \"Horské\"\n",
    "\n",
    "print(f'Dostupnější kategorie jsou: {nejdostupnejsi_kategorie} kola')\n",
    "# Zjistěte, kolik kusů v každé kategorii (Silniční, Horské) je skladem\n",
    "# BONUS: Na výstup vypsat, která kategorie kol má více kusů skladem "
   ]
  },
  {
   "cell_type": "code",
   "execution_count": null,
   "metadata": {},
   "outputs": [],
   "source": []
  },
  {
   "cell_type": "code",
   "execution_count": null,
   "metadata": {},
   "outputs": [
    {
     "data": {
      "text/plain": [
       "421.6666666666667"
      ]
     },
     "execution_count": 78,
     "metadata": {},
     "output_type": "execute_result"
    }
   ],
   "source": [
    "import pandas as pd\n",
    "\n",
    "df = pd.DataFrame(spoje)\n",
    "df['cena'].mean()"
   ]
  },
  {
   "cell_type": "code",
   "execution_count": 44,
   "metadata": {},
   "outputs": [
    {
     "data": {
      "text/plain": [
       "'/Users/dominik.smida/Library/CloudStorage/OneDrive-Direct/Plocha/Python_5203'"
      ]
     },
     "execution_count": 44,
     "metadata": {},
     "output_type": "execute_result"
    }
   ],
   "source": [
    "# Ověření, ve které složce se nacházím\n",
    "import os\n",
    "\n",
    "os.getcwd()"
   ]
  },
  {
   "cell_type": "markdown",
   "metadata": {
    "id": "yW1S37Sa79N1"
   },
   "source": [
    "---\n",
    "\n",
    "#### **List**\n",
    "\n",
    "`List` to datový typ, který dokáže uchovávat hodnoty různých datových typů.\n",
    "Jednotlivé hodnoty jsou odděleny čárkou.\n",
    "\n",
    "Prázdný `List` lze vytvořit dvěma způsoby:\n",
    "1. Definováním prázdných hranatých závorek `muj_list = []`\n",
    "2. Pomocí zabudované funkce `muj_list = list()`\n",
    "\n",
    "Neprázdný list se tvoří definováním hodnot do hranatých závorek\n",
    "`muj_list = [1, 2, 3, 4]`\n",
    "\n",
    "List může obsahovat i další složitější datové typy, jako jsou slovníky, tuply i vnořené listy\n",
    "\n",
    "Jelikož je `List` mutable datový typ, čili lze v průběhu jeho životnosti měnit, má k tomu také přístupné velké množství metod, které umožňují jednoduché přidávání a odebírání prvků z listu"
   ]
  },
  {
   "cell_type": "markdown",
   "metadata": {},
   "source": [
    "---\n",
    "\n",
    "#### **List**\n",
    "\n",
    "`List` to datový typ, který dokáže uchovávat hodnoty různých datových typů.\n",
    "Jednotlivé hodnoty jsou odděleny čárkou.\n",
    "\n",
    "Prázdný `List` lze vytvořit dvěma způsoby:\n",
    "1. Definováním prázdných hranatých závorek `muj_list = []`\n",
    "2. Pomocí zabudované funkce `muj_list = list()`\n",
    "\n",
    "Neprázdný list se tvoří definováním hodnot do hranatých závorek\n",
    "`muj_list = [1, 2, 3, 4]`\n",
    "\n",
    "List může obsahovat i další složitější datové typy, jako jsou slovníky, tuply i vnořené listy\n",
    "\n",
    "Jelikož je `List` mutable datový typ, čili lze v průběhu jeho životnosti měnit, má k tomu také přístupné velké množství metod, které umožňují jednoduché přidávání a odebírání prvků z listu"
   ]
  },
  {
   "cell_type": "code",
   "execution_count": 110,
   "metadata": {
    "ExecuteTime": {
     "end_time": "2024-11-16T10:14:58.310821Z",
     "start_time": "2024-11-16T10:14:58.308334Z"
    }
   },
   "outputs": [
    {
     "data": {
      "text/plain": [
       "[10, 20, 30]"
      ]
     },
     "execution_count": 110,
     "metadata": {},
     "output_type": "execute_result"
    }
   ],
   "source": [
    "list_hodnot = [1, 50, \"iPhone\", 10.5, True, [10, 20, 30]] # 6 / 8\n",
    "\n",
    "# Indexace -> probíhá vždy od 0 !!\n",
    "vnoreny_list = list_hodnot[5]\n",
    "\n",
    "list_hodnot[-1] # Indexace od konce\n",
    "\n",
    "# Indexace přes metodu - nejde"
   ]
  },
  {
   "cell_type": "markdown",
   "metadata": {},
   "source": [
    "#### List a jeho metody"
   ]
  },
  {
   "cell_type": "markdown",
   "metadata": {},
   "source": [
    "Metoda `.append()` slouží pro přidávání prvků **vždy na konec listu**"
   ]
  },
  {
   "cell_type": "code",
   "execution_count": 125,
   "metadata": {},
   "outputs": [
    {
     "name": "stdout",
     "output_type": "stream",
     "text": [
      "Tento zaměstnanec není starší 40 let\n",
      "Tento zaměstnanec není starší 40 let\n",
      "Tento zaměstnanec má 40 a více let, přidávám ho do listu ...\n",
      "Tento zaměstnanec není starší 40 let\n",
      "Tento zaměstnanec není starší 40 let\n"
     ]
    }
   ],
   "source": [
    "excel_data = [20, 30, 40, 35, 38]\n",
    "zamestnanci_nad_40 = []\n",
    "\n",
    "# for cyklus -> umožňuje procházet kolekci hodnot (např. list)\n",
    "#for docasna_promena in kolekce_hodnot:\n",
    "for vek_zamestnance in excel_data:\n",
    "    if vek_zamestnance >= 40:\n",
    "        # tento vek pridat do listu zamestnanci_nad_40\n",
    "        print('Tento zaměstnanec má 40 a více let, přidávám ho do listu ...')\n",
    "        zamestnanci_nad_40.append(vek_zamestnance)\n",
    "    else:\n",
    "        # vypíšeme pouze že není starší 40 let\n",
    "        print('Tento zaměstnanec není starší 40 let')\n"
   ]
  },
  {
   "cell_type": "code",
   "execution_count": 126,
   "metadata": {
    "ExecuteTime": {
     "end_time": "2024-11-16T10:15:46.511068Z",
     "start_time": "2024-11-16T10:15:46.506773Z"
    }
   },
   "outputs": [
    {
     "name": "stdout",
     "output_type": "stream",
     "text": [
      "[40]\n"
     ]
    }
   ],
   "source": [
    "print(zamestnanci_nad_40)"
   ]
  },
  {
   "cell_type": "code",
   "execution_count": 133,
   "metadata": {},
   "outputs": [
    {
     "name": "stdout",
     "output_type": "stream",
     "text": [
      "[100, 200, 10, 2, 1, 1000, 500, 550]\n",
      "[1000, 550, 500, 200, 100, 10, 2, 1]\n"
     ]
    }
   ],
   "source": [
    "cisla = [100, 200, 10, 2, 1, 1000, 500, 550]\n",
    "print(cisla)\n",
    "\n",
    "cisla.sort(reverse=True) # metoda pro řazení\n",
    "\n",
    "print(cisla)"
   ]
  },
  {
   "cell_type": "markdown",
   "metadata": {},
   "source": [
    "##### `.remove()`"
   ]
  },
  {
   "cell_type": "code",
   "execution_count": 135,
   "metadata": {},
   "outputs": [
    {
     "name": "stdout",
     "output_type": "stream",
     "text": [
      "[550, 200, 100, 10, 2, 1]\n"
     ]
    }
   ],
   "source": [
    "# Metoda pro mazání\n",
    "cisla.remove(1000)\n",
    "\n",
    "print(cisla)"
   ]
  },
  {
   "cell_type": "markdown",
   "metadata": {},
   "source": [
    "##### `.insert()`"
   ]
  },
  {
   "cell_type": "code",
   "execution_count": 139,
   "metadata": {},
   "outputs": [
    {
     "name": "stdout",
     "output_type": "stream",
     "text": [
      "['veverka', 'pes', 'pes', 'kocka', 'kun']\n"
     ]
    }
   ],
   "source": [
    "zvirata = [\"pes\", \"pes\", \"kocka\", \"kun\"]\n",
    "\n",
    "zvirata.insert(0, \"veverka\")    # metoda pro vložení prvku na jakékoliv místo v listu\n",
    "\n",
    "print(zvirata)"
   ]
  },
  {
   "cell_type": "code",
   "execution_count": null,
   "metadata": {
    "ExecuteTime": {
     "end_time": "2024-11-16T10:38:21.979393Z",
     "start_time": "2024-11-16T10:38:21.974535Z"
    }
   },
   "outputs": [],
   "source": [
    "cities = [\n",
    "    ['Warsaw', 'Gdynia', 'Zakopane'], \n",
    "    ['Berlin', 'Hamburg'], \n",
    "    ['Praha', 'Brno', 'Ostava']\n",
    "]\n",
    "\n",
    "# Berlin\n",
    "cities[1][0]"
   ]
  },
  {
   "cell_type": "code",
   "execution_count": null,
   "metadata": {
    "ExecuteTime": {
     "end_time": "2024-11-16T10:40:54.216886Z",
     "start_time": "2024-11-16T10:40:54.214711Z"
    }
   },
   "outputs": [],
   "source": [
    "list_zemi = ['česko', 'slovensko', 'německo']\n",
    "list_zemi[-3]"
   ]
  },
  {
   "cell_type": "code",
   "execution_count": null,
   "metadata": {
    "ExecuteTime": {
     "end_time": "2024-11-16T10:43:26.534881Z",
     "start_time": "2024-11-16T10:43:26.527976Z"
    }
   },
   "outputs": [],
   "source": [
    "list_mest = ['Praha', 'Brno', 'Zlín']\n",
    "print(list_mest)"
   ]
  },
  {
   "cell_type": "code",
   "execution_count": null,
   "metadata": {
    "ExecuteTime": {
     "end_time": "2024-11-16T10:46:24.495495Z",
     "start_time": "2024-11-16T10:46:24.490846Z"
    }
   },
   "outputs": [],
   "source": [
    "# Vložení prvku na konkrétní místo (index) v listu - metoda .index()\n",
    "list_mest.insert(2, 'Ostrava')"
   ]
  },
  {
   "cell_type": "code",
   "execution_count": null,
   "metadata": {
    "ExecuteTime": {
     "end_time": "2024-11-16T10:46:30.973932Z",
     "start_time": "2024-11-16T10:46:30.971713Z"
    }
   },
   "outputs": [],
   "source": [
    "print(list_mest)"
   ]
  },
  {
   "cell_type": "markdown",
   "metadata": {},
   "source": [
    "`.pop()`"
   ]
  },
  {
   "cell_type": "code",
   "execution_count": 143,
   "metadata": {},
   "outputs": [
    {
     "name": "stdout",
     "output_type": "stream",
     "text": [
      "20251001\n"
     ]
    },
    {
     "data": {
      "text/plain": [
       "[20251002, 20251003, 20251004]"
      ]
     },
     "execution_count": 143,
     "metadata": {},
     "output_type": "execute_result"
    }
   ],
   "source": [
    "nezpracovane_faktury = [20251001, 20251002, 20251003, 20251004]\n",
    "smazana_hodnota = nezpracovane_faktury.pop(0)\n",
    "print(smazana_hodnota)\n",
    "nezpracovane_faktury"
   ]
  },
  {
   "cell_type": "code",
   "execution_count": 145,
   "metadata": {},
   "outputs": [
    {
     "name": "stdout",
     "output_type": "stream",
     "text": [
      "Zpracovávám fakturu č.: 20251001\n",
      "Zpracovávám fakturu č.: 20251003\n",
      "Nezpracované faktury: [20251003, 20251004]\n",
      "Zpracované faktury: [20251001, 20251002]\n"
     ]
    }
   ],
   "source": [
    "# .pop() maže hodnotu, ale zároveň jí dokáže uložit do proměnné\n",
    "nezpracovane_faktury = [20251001, 20251002, 20251003, 20251004]\n",
    "zpracovane_faktury = []\n",
    "\n",
    "for faktura in nezpracovane_faktury:\n",
    "    print(f'Zpracovávám fakturu č.: {faktura}')\n",
    "    zpracovavana_faktura = nezpracovane_faktury.pop(0)\n",
    "    zpracovane_faktury.append(zpracovavana_faktura)\n",
    "\n",
    "print(f'Nezpracované faktury: {nezpracovane_faktury}')\n",
    "print(f'Zpracované faktury: {zpracovane_faktury}')"
   ]
  },
  {
   "cell_type": "markdown",
   "metadata": {},
   "source": [
    "### Inicializace listu/seznamu"
   ]
  },
  {
   "cell_type": "markdown",
   "metadata": {},
   "source": [
    "##### 1. možnost"
   ]
  },
  {
   "cell_type": "code",
   "execution_count": null,
   "metadata": {},
   "outputs": [],
   "source": [
    "# Vytvoření listu\n",
    "muj_list = []\n",
    "type(muj_list)"
   ]
  },
  {
   "cell_type": "markdown",
   "metadata": {},
   "source": [
    "##### 2. možnost"
   ]
  },
  {
   "cell_type": "code",
   "execution_count": null,
   "metadata": {},
   "outputs": [],
   "source": [
    "# Vytvoření listu\n",
    "muj_list_2 = list()\n",
    "type(muj_list)"
   ]
  },
  {
   "cell_type": "code",
   "execution_count": null,
   "metadata": {},
   "outputs": [],
   "source": [
    "# For cyklus, abychom mohli přistoupit k jednotlivým prvkům v poli\n",
    "for i in list_2:\n",
    "    # Pro jednotlivé prvky v poli kontrolujeme jejich obsah pomocí IF statementu\n",
    "    if i == 'novy':\n",
    "        list_2.remove(i)\n",
    "        print('Nasel jsem slovo novy, mazu jej.')\n",
    "    else:\n",
    "        print('Slovo novy jsem nenasel, jdu na dalsi iteraci')"
   ]
  },
  {
   "cell_type": "code",
   "execution_count": null,
   "metadata": {},
   "outputs": [],
   "source": [
    "# Prva přetypuju list na set, čímž se zbavím duplicit a pak jej opět převedu na list\n",
    "list(set(list_2))"
   ]
  },
  {
   "cell_type": "code",
   "execution_count": null,
   "metadata": {},
   "outputs": [],
   "source": [
    "list_2 = set(list_2)"
   ]
  },
  {
   "cell_type": "code",
   "execution_count": null,
   "metadata": {},
   "outputs": [],
   "source": [
    "print(list_2)"
   ]
  },
  {
   "cell_type": "markdown",
   "metadata": {},
   "source": [
    "### Úkol č. 1"
   ]
  },
  {
   "cell_type": "markdown",
   "metadata": {},
   "source": [
    "#### Vytvoř proměnnou datového typu list s názvem muj_list, který má hodnoty [1, 3, \"x\"] a **vlož na konec nový prvek s hodnotou 10**"
   ]
  },
  {
   "cell_type": "code",
   "execution_count": 149,
   "metadata": {},
   "outputs": [
    {
     "name": "stdout",
     "output_type": "stream",
     "text": [
      "[1, 3, 'x']\n",
      "[1, 3, 'x', 10]\n"
     ]
    }
   ],
   "source": [
    "muj_list = [1, 3, \"x\"]\n",
    "\n",
    "print(muj_list)\n",
    "\n",
    "muj_list.append(10)     # metoda .append()\n",
    "\n",
    "print(muj_list)"
   ]
  },
  {
   "cell_type": "markdown",
   "metadata": {},
   "source": [
    "### Úkol č. 2\n",
    "#### Do proměnné muj_list vložte na nultý index (na první místo v listu) hodnotu 50"
   ]
  },
  {
   "cell_type": "code",
   "execution_count": 151,
   "metadata": {},
   "outputs": [
    {
     "name": "stdout",
     "output_type": "stream",
     "text": [
      "[1, 3, 'x']\n",
      "[50, 1, 3, 'x']\n"
     ]
    }
   ],
   "source": [
    "muj_list = [1, 3, \"x\"]\n",
    "\n",
    "print(muj_list)\n",
    "\n",
    "muj_list.insert(0, 50)  # metoda .insert()\n",
    "\n",
    "print(muj_list)"
   ]
  },
  {
   "cell_type": "markdown",
   "metadata": {},
   "source": [
    "### Úkol č. 3\n",
    "#### Vytvořte proměnnou, přiřaďte jí hodnotu jakoukoliv číselnou hodnotu a napiště podmínku (if statement), která bude kontrolovat, zda-li je hodnota proměnné menší než 51. Pokud ano, vypíše se `Hodnota je menší než 51.` Pokud ne, vypíše se `Hodnota je větší nebo rovna 51`."
   ]
  },
  {
   "cell_type": "code",
   "execution_count": 161,
   "metadata": {},
   "outputs": [
    {
     "name": "stdout",
     "output_type": "stream",
     "text": [
      "Hodnota je menší než 51\n",
      "Hodnota je menší než 51\n",
      "Hodnota je menší než 51\n",
      "[5, 10, 15]\n"
     ]
    }
   ],
   "source": [
    "cislo = [5, 10, 15]\n",
    "\n",
    "for hodnota in cislo:\n",
    "\n",
    "    if hodnota < 51:\n",
    "        print('Hodnota je menší než 51')\n",
    "    else:\n",
    "        print('Hodnota je větší nebo rovna 51')\n",
    "\n",
    "print(cislo)"
   ]
  },
  {
   "cell_type": "code",
   "execution_count": 158,
   "metadata": {},
   "outputs": [
    {
     "name": "stdout",
     "output_type": "stream",
     "text": [
      "Hodnota je menší než 51\n"
     ]
    }
   ],
   "source": [
    "cislo = 5\n",
    "\n",
    "if cislo < 51:\n",
    "    print('Hodnota je menší než 51')\n",
    "else:\n",
    "    print('Hodnota je větší nebo rovna 51')"
   ]
  },
  {
   "cell_type": "code",
   "execution_count": 154,
   "metadata": {},
   "outputs": [
    {
     "name": "stdout",
     "output_type": "stream",
     "text": [
      "<class 'int'>\n",
      "<class 'list'>\n"
     ]
    }
   ],
   "source": [
    "cislo = 5\n",
    "print(type(cislo))\n",
    "\n",
    "cislo = [5]\n",
    "print(type(cislo))"
   ]
  },
  {
   "cell_type": "markdown",
   "metadata": {
    "id": "dOHTGrSc90ev"
   },
   "source": [
    "---\n",
    "\n",
    "#### **Tuple**\n",
    "\n",
    "`Tuple` je na první pohled velmi podobný Listu.\n",
    "\n",
    "`Tuple (n-tice)` v Pythonu je neměnný (immutable) datový typ, který uchovává hodnoty v určitém pořadí. Hodnoty v `tuple` mohou být různých datových typů.\n",
    "\n",
    "Prázdný `tuple` lze vytvořit takto: `muj_tuple = ()`\n",
    "\n",
    "Neprázdný `tuple` vytvoříte umístěním hodnot oddělených čárkou do kulatých závorek: `muj_tuple = (1, 2, 3, 4)`\n",
    "\n",
    "`Tuple` mohou obsahovat další složité datové typy, jako jsou slovníky, další ntice nebo listy.\n",
    "\n",
    "Přestože jsou tuple neměnné a nejde měnit jejich obsah po vytvoření, mohou obsahovat měnitelné objekty, jako jsou listy nebo slovníky. To znamená, že i když nemůžete změnit, které objekty tuple obsahuje, můžete změnit obsah těchto objektů."
   ]
  },
  {
   "cell_type": "code",
   "execution_count": null,
   "metadata": {
    "ExecuteTime": {
     "end_time": "2024-11-16T12:43:04.604415Z",
     "start_time": "2024-11-16T12:43:04.601600Z"
    }
   },
   "outputs": [],
   "source": [
    "muj_tuple = tuple()\n",
    "type(muj_tuple)"
   ]
  },
  {
   "cell_type": "code",
   "execution_count": 147,
   "metadata": {
    "ExecuteTime": {
     "end_time": "2024-11-16T12:43:42.045211Z",
     "start_time": "2024-11-16T12:43:42.041060Z"
    }
   },
   "outputs": [
    {
     "ename": "AttributeError",
     "evalue": "'tuple' object has no attribute 'append'",
     "output_type": "error",
     "traceback": [
      "\u001b[0;31m---------------------------------------------------------------------------\u001b[0m",
      "\u001b[0;31mAttributeError\u001b[0m                            Traceback (most recent call last)",
      "Cell \u001b[0;32mIn[147], line 3\u001b[0m\n\u001b[1;32m      1\u001b[0m muj_tuple \u001b[38;5;241m=\u001b[39m (\u001b[38;5;241m1\u001b[39m, \u001b[38;5;241m2\u001b[39m, \u001b[38;5;241m3\u001b[39m, \u001b[38;5;241m4\u001b[39m, \u001b[38;5;124m'\u001b[39m\u001b[38;5;124mText\u001b[39m\u001b[38;5;124m'\u001b[39m, (\u001b[38;5;241m1\u001b[39m, \u001b[38;5;241m2\u001b[39m), [\u001b[38;5;241m3\u001b[39m, \u001b[38;5;241m4\u001b[39m])\n\u001b[0;32m----> 3\u001b[0m muj_tuple\u001b[38;5;241m.\u001b[39mappend(\u001b[38;5;241m5\u001b[39m)\n",
      "\u001b[0;31mAttributeError\u001b[0m: 'tuple' object has no attribute 'append'"
     ]
    }
   ],
   "source": [
    "muj_tuple = (1, 2, 3, 4, 'Text', (1, 2), [3, 4])\n",
    "\n",
    "muj_tuple.append(5)"
   ]
  },
  {
   "cell_type": "code",
   "execution_count": null,
   "metadata": {
    "ExecuteTime": {
     "end_time": "2024-11-16T12:44:32.557597Z",
     "start_time": "2024-11-16T12:44:32.539174Z"
    }
   },
   "outputs": [],
   "source": [
    "type(muj_tuple)\n",
    "print(muj_tuple)\n",
    "\n",
    "# Přidat prvek\n",
    "muj_tuple.append(10)"
   ]
  },
  {
   "cell_type": "code",
   "execution_count": null,
   "metadata": {
    "id": "DYPDh6JBtW2n"
   },
   "outputs": [],
   "source": [
    "# Vytvoření tuple s různými datovými typy\n",
    "muj_tuple = (1, 2, 3, \"text\", [14, 15, 16], {\"dominik\":\"šmída\"}, 15)\n",
    "type(muj_tuple)"
   ]
  },
  {
   "cell_type": "code",
   "execution_count": null,
   "metadata": {},
   "outputs": [],
   "source": [
    "muj_list = [1, 2, 3, \"text\", [14, 15, 16], {\"dominik\":\"šmída\"}, 15]\n",
    "\n",
    "# Přidání hodnoty na konec listu\n",
    "muj_list.append(5)"
   ]
  },
  {
   "cell_type": "code",
   "execution_count": null,
   "metadata": {
    "ExecuteTime": {
     "end_time": "2024-11-16T12:51:44.918156Z",
     "start_time": "2024-11-16T12:51:44.915356Z"
    }
   },
   "outputs": [],
   "source": [
    "muj_tuple = ([1, 2, 3], 4)\n",
    "print(muj_tuple)"
   ]
  },
  {
   "cell_type": "code",
   "execution_count": null,
   "metadata": {
    "ExecuteTime": {
     "end_time": "2024-11-16T12:52:59.708052Z",
     "start_time": "2024-11-16T12:52:59.705413Z"
    }
   },
   "outputs": [],
   "source": [
    "muj_tuple[0][0] = 5"
   ]
  },
  {
   "cell_type": "code",
   "execution_count": null,
   "metadata": {
    "ExecuteTime": {
     "end_time": "2024-11-16T12:53:04.742988Z",
     "start_time": "2024-11-16T12:53:04.740292Z"
    }
   },
   "outputs": [],
   "source": [
    "print(muj_tuple)"
   ]
  },
  {
   "cell_type": "code",
   "execution_count": null,
   "metadata": {
    "id": "gGVkXJBS-U6_"
   },
   "outputs": [],
   "source": [
    "# Vytvoření tuple obsahující list a slovník\n",
    "muj_tuple = ([1, 2, 3], 1, 2)\n",
    "\n",
    "# Přístup k prvkům v tuple\n",
    "print(\"Původní tuple:\", muj_tuple)\n",
    "\n",
    "# Změna obsahu listu uvnitř tuple\n",
    "muj_tuple[0][1] = 'změněno'\n",
    "print(\"Tuple po změně listu:\", muj_tuple)\n",
    "\n",
    "# Změna obsahu slovníku uvnitř tuple\n",
    "muj_tuple[1]['klic'] = 'nová hodnota'\n",
    "print(\"Tuple po změně slovníku:\", muj_tuple)\n"
   ]
  },
  {
   "cell_type": "markdown",
   "metadata": {
    "id": "K_AsYsHk4ihR"
   },
   "source": [
    "---\n",
    "\n",
    "#### **Rozdíl mezi `tuple` a `list`**\n",
    "\n",
    "- `list` je mutable datový typ, takže se elementy v něm můžou přidat (od toho je odvozen i velký počet metod pro tyto operace)\n",
    "- `tuple` je immutable datový typ. Protože je tuple neměnný, neobsahuje metody pro změnu svého obsahu, jako jsou `append()`, `remove()` nebo `pop()`, které naleznete u měnitelných datových typů jako je `list`."
   ]
  },
  {
   "cell_type": "markdown",
   "metadata": {
    "id": "3QZQNQjn2ngb"
   },
   "source": [
    "---\n",
    "\n",
    "#### **Konvence názvů proměnných**\n",
    "1. *camelCase* - `mojePromenna` - každé nové slovo začíná velkým písmenem. Pozor na to, že první písmeno je vždy **malé**!\n",
    "2. *snake_case* - `moje_promenna` - každé nové slovo je odděleno podtržítkem `_`\n",
    "\n",
    "**Proměnná nesmí začínat číslem, obsahovat mezery či speciální znaky kromě podtržítka!**\n",
    "\n",
    "Je vhodné držet konvenčnost pojmenování stejnou napříč celým programem."
   ]
  },
  {
   "cell_type": "markdown",
   "metadata": {},
   "source": [
    "# Slovník"
   ]
  },
  {
   "cell_type": "code",
   "execution_count": null,
   "metadata": {
    "ExecuteTime": {
     "end_time": "2024-11-16T13:22:32.834747Z",
     "start_time": "2024-11-16T13:22:32.830916Z"
    }
   },
   "outputs": [],
   "source": [
    "slovnik = {'car':'auto', \n",
    "           'cat':'kocka', \n",
    "           'dog': 'pes'}"
   ]
  },
  {
   "cell_type": "code",
   "execution_count": null,
   "metadata": {
    "ExecuteTime": {
     "end_time": "2024-11-16T13:19:05.113688Z",
     "start_time": "2024-11-16T13:19:05.111217Z"
    }
   },
   "outputs": [],
   "source": [
    "\n",
    "# 1. způsob získání hodnoty pro daný klíč\n",
    "slovnik['car']\n",
    "\n",
    "# 2. způsob získání hodnoty pro daný klíč\n",
    "slovnik.get('dog', 'Překlad nenalezen')"
   ]
  },
  {
   "cell_type": "code",
   "execution_count": null,
   "metadata": {
    "ExecuteTime": {
     "end_time": "2024-11-16T13:21:50.897649Z",
     "start_time": "2024-11-16T13:21:50.891744Z"
    }
   },
   "outputs": [],
   "source": [
    "slovnik.keys() # Anglicke hodnoty (klíče)\n",
    "slovnik.values() # České hodnoty (hodnoty)"
   ]
  },
  {
   "cell_type": "code",
   "execution_count": null,
   "metadata": {
    "ExecuteTime": {
     "end_time": "2024-11-16T13:23:45.672049Z",
     "start_time": "2024-11-16T13:23:45.667080Z"
    }
   },
   "outputs": [],
   "source": [
    "slovnik.update({'building': 'budova'})"
   ]
  },
  {
   "cell_type": "code",
   "execution_count": null,
   "metadata": {
    "ExecuteTime": {
     "end_time": "2024-11-16T13:23:51.819378Z",
     "start_time": "2024-11-16T13:23:51.816872Z"
    }
   },
   "outputs": [],
   "source": [
    "print(slovnik)"
   ]
  },
  {
   "cell_type": "code",
   "execution_count": null,
   "metadata": {
    "ExecuteTime": {
     "end_time": "2024-11-16T13:28:16.758828Z",
     "start_time": "2024-11-16T13:28:16.754775Z"
    }
   },
   "outputs": [],
   "source": [
    "# Funkce, která nám umožní do slovníku přidat nový překlad\n",
    "def pridej_preklad(slovnik, anglicke_slovo, ceske_slovo):\n",
    "    slovnik.update(\n",
    "        {anglicke_slovo: ceske_slovo} \n",
    "    )\n",
    "    \n",
    "    return slovnik"
   ]
  },
  {
   "cell_type": "code",
   "execution_count": null,
   "metadata": {
    "ExecuteTime": {
     "end_time": "2024-11-16T13:40:53.355283Z",
     "start_time": "2024-11-16T13:40:53.352850Z"
    }
   },
   "outputs": [],
   "source": [
    "slovnik = pridej_preklad(slovnik=slovnik, anglicke_slovo='road', ceske_slovo='cesta') # road - cesta\n",
    "print(slovnik)"
   ]
  },
  {
   "cell_type": "code",
   "execution_count": null,
   "metadata": {
    "ExecuteTime": {
     "end_time": "2024-11-16T13:34:19.825473Z",
     "start_time": "2024-11-16T13:34:19.808945Z"
    }
   },
   "outputs": [],
   "source": [
    "slovnik = pridej_preklad(slovnik=slovnik, anglicke_slovo='pen', ceske_slovo='pero') # pen - pero"
   ]
  },
  {
   "cell_type": "code",
   "execution_count": null,
   "metadata": {
    "ExecuteTime": {
     "end_time": "2024-11-16T13:35:08.439635Z",
     "start_time": "2024-11-16T13:35:08.432962Z"
    }
   },
   "outputs": [],
   "source": [
    "from pprint import pprint\n",
    "pprint(slovnik)"
   ]
  },
  {
   "cell_type": "markdown",
   "metadata": {
    "id": "k2wLHOYm3t5l"
   },
   "source": [
    "Příklad `camelCase`"
   ]
  },
  {
   "cell_type": "code",
   "execution_count": null,
   "metadata": {
    "ExecuteTime": {
     "end_time": "2024-11-16T13:50:25.325715Z",
     "start_time": "2024-11-16T13:50:25.320973Z"
    }
   },
   "outputs": [],
   "source": [
    "uzivatele = {\n",
    "    'jmeno': ['Dominik', 'Aleš', 'Ondřej'],\n",
    "    'prijmeni': ['Šmída', 'osička', 'Brzobohatý'],\n",
    "    'vek': [35, 40, 25]\n",
    "}"
   ]
  },
  {
   "cell_type": "code",
   "execution_count": null,
   "metadata": {
    "ExecuteTime": {
     "end_time": "2024-11-16T13:58:05.757852Z",
     "start_time": "2024-11-16T13:58:05.752730Z"
    }
   },
   "outputs": [],
   "source": [
    "from pprint import pprint\n",
    "pprint(uzivatele)"
   ]
  },
  {
   "cell_type": "code",
   "execution_count": null,
   "metadata": {
    "ExecuteTime": {
     "end_time": "2024-11-16T13:51:16.142385Z",
     "start_time": "2024-11-16T13:51:13.315854Z"
    }
   },
   "outputs": [],
   "source": [
    "import pandas as pd\n",
    "df = pd.DataFrame(uzivatele)"
   ]
  },
  {
   "cell_type": "code",
   "execution_count": null,
   "metadata": {
    "ExecuteTime": {
     "end_time": "2024-11-16T14:29:12.606349Z",
     "start_time": "2024-11-16T14:29:12.589583Z"
    }
   },
   "outputs": [],
   "source": [
    "df.head()\n",
    "#df['vek'].mean()"
   ]
  },
  {
   "cell_type": "markdown",
   "metadata": {},
   "source": [
    "## Přidávání nových itemů do slovníku"
   ]
  },
  {
   "cell_type": "markdown",
   "metadata": {},
   "source": [
    "#### 1. způsob"
   ]
  },
  {
   "cell_type": "code",
   "execution_count": null,
   "metadata": {
    "ExecuteTime": {
     "end_time": "2024-11-16T14:26:57.394676Z",
     "start_time": "2024-11-16T14:26:57.368109Z"
    }
   },
   "outputs": [],
   "source": [
    "# Nový slovník (prázdný)\n",
    "people = {'vek': 50}\n",
    "print(people)"
   ]
  },
  {
   "cell_type": "code",
   "execution_count": null,
   "metadata": {
    "ExecuteTime": {
     "end_time": "2024-11-16T14:27:20.611735Z",
     "start_time": "2024-11-16T14:27:20.606943Z"
    }
   },
   "outputs": [],
   "source": [
    "nova_data = {'jmeno': 'Dominik'}\n",
    "# 1. způsob\n",
    "people.update(nova_data) # Dvojice - klíč a hodnota / key a value {'key':'value'}\n",
    "# 2. způsob\n",
    "#people.update({'jmeno': 'Dominik'})"
   ]
  },
  {
   "cell_type": "code",
   "execution_count": null,
   "metadata": {
    "ExecuteTime": {
     "end_time": "2024-11-16T14:51:19.443287Z",
     "start_time": "2024-11-16T14:51:19.438608Z"
    }
   },
   "outputs": [],
   "source": [
    "print(people)"
   ]
  },
  {
   "cell_type": "markdown",
   "metadata": {},
   "source": [
    "#### 2. způsob"
   ]
  },
  {
   "cell_type": "code",
   "execution_count": null,
   "metadata": {
    "ExecuteTime": {
     "end_time": "2024-11-16T14:51:38.149756Z",
     "start_time": "2024-11-16T14:51:38.145246Z"
    }
   },
   "outputs": [],
   "source": [
    "people['jmeno'] = 'David'"
   ]
  },
  {
   "cell_type": "code",
   "execution_count": null,
   "metadata": {
    "ExecuteTime": {
     "end_time": "2024-11-16T14:51:43.963182Z",
     "start_time": "2024-11-16T14:51:43.960627Z"
    }
   },
   "outputs": [],
   "source": [
    "print(people)"
   ]
  },
  {
   "cell_type": "code",
   "execution_count": null,
   "metadata": {
    "ExecuteTime": {
     "end_time": "2024-11-16T14:58:38.352960Z",
     "start_time": "2024-11-16T14:58:38.350115Z"
    }
   },
   "outputs": [],
   "source": [
    "uzivatele = {\n",
    "    'jmeno': ['Dominik', 'Aleš', 'Ondřej'],\n",
    "    'prijmeni': ['Šmída', 'osička', 'Brzobohatý'],\n",
    "    'vek': [35, None, 25]\n",
    "}"
   ]
  },
  {
   "cell_type": "code",
   "execution_count": null,
   "metadata": {
    "ExecuteTime": {
     "end_time": "2024-11-16T14:59:00.210861Z",
     "start_time": "2024-11-16T14:59:00.206905Z"
    }
   },
   "outputs": [],
   "source": [
    "uzivatele['jmeno'].append('Aneta')\n",
    "print(uzivatele)"
   ]
  },
  {
   "cell_type": "code",
   "execution_count": null,
   "metadata": {
    "ExecuteTime": {
     "end_time": "2024-11-16T14:59:01.516443Z",
     "start_time": "2024-11-16T14:59:01.514224Z"
    }
   },
   "outputs": [],
   "source": [
    "uzivatele['prijmeni'].append('Osičková')\n",
    "uzivatele['vek'].append(30)"
   ]
  },
  {
   "cell_type": "code",
   "execution_count": null,
   "metadata": {
    "ExecuteTime": {
     "end_time": "2024-11-16T14:59:10.771653Z",
     "start_time": "2024-11-16T14:59:10.766384Z"
    }
   },
   "outputs": [],
   "source": [
    "uzivatele"
   ]
  },
  {
   "cell_type": "markdown",
   "metadata": {},
   "source": [
    "#### Převod na dataframe v datové knihovně Pandas"
   ]
  },
  {
   "cell_type": "code",
   "execution_count": null,
   "metadata": {
    "ExecuteTime": {
     "end_time": "2024-11-16T15:56:51.227130Z",
     "start_time": "2024-11-16T15:56:51.221579Z"
    }
   },
   "outputs": [],
   "source": [
    "import pandas as pd\n",
    "\n",
    "df = pd.DataFrame(uzivatele)\n",
    "\n",
    "df.head()\n",
    "\n",
    "prumerny_vek = df['vek'].mean()\n",
    "print(f'Průměrný věk z mého datasetu je: {prumerny_vek} let.')"
   ]
  },
  {
   "cell_type": "markdown",
   "metadata": {},
   "source": [
    "### V klíči věk smazat hodnotu 35 a na první místo vložit hodnotu 34"
   ]
  },
  {
   "cell_type": "code",
   "execution_count": null,
   "metadata": {
    "ExecuteTime": {
     "end_time": "2024-11-16T14:47:32.463117Z",
     "start_time": "2024-11-16T14:47:32.449304Z"
    }
   },
   "outputs": [],
   "source": [
    "print(uzivatele)\n",
    "uzivatele['vek'].remove(35)\n",
    "print(uzivatele)"
   ]
  },
  {
   "cell_type": "code",
   "execution_count": null,
   "metadata": {
    "ExecuteTime": {
     "end_time": "2024-11-16T14:49:19.998529Z",
     "start_time": "2024-11-16T14:49:19.994370Z"
    }
   },
   "outputs": [],
   "source": [
    "print(uzivatele['vek'])\n",
    "uzivatele['vek'].insert(0, 34)\n",
    "print(uzivatele['vek'])"
   ]
  },
  {
   "cell_type": "code",
   "execution_count": null,
   "metadata": {
    "ExecuteTime": {
     "end_time": "2024-11-16T14:49:34.592174Z",
     "start_time": "2024-11-16T14:49:34.588433Z"
    }
   },
   "outputs": [],
   "source": [
    "uzivatele"
   ]
  },
  {
   "cell_type": "code",
   "execution_count": null,
   "metadata": {
    "ExecuteTime": {
     "end_time": "2024-11-16T14:38:45.288272Z",
     "start_time": "2024-11-16T14:38:45.283700Z"
    }
   },
   "outputs": [],
   "source": [
    "print(uzivatele)\n",
    "uzivatele['jmeno'].append('Aneta')\n",
    "print(uzivatele)"
   ]
  },
  {
   "cell_type": "markdown",
   "metadata": {
    "id": "3Gr1PjFc3yrR"
   },
   "source": [
    "Příklad `snake_case`"
   ]
  },
  {
   "cell_type": "markdown",
   "metadata": {},
   "source": [
    "### Příklad: Vytvořit proměnnou datového typu dict a přidat nový item (novou dvojici) - klíč: `jméno`, hodnota: `Vaše jméno`"
   ]
  },
  {
   "cell_type": "markdown",
   "metadata": {},
   "source": [
    "### Příklad: Vytvořit list `muj_list` s hodnotami `[\"Kočka\", \"Pes\", \"Kocour\"]`\n",
    "1. Na konec listu vložit nový prvek (jakékoliv zvíře)\n",
    "2. Na první index vložit nový prvek (zvíře `Kuře`)\n",
    "3. Z listu `muj_list` smazat prvek (zvíře) `Kočka`"
   ]
  },
  {
   "cell_type": "markdown",
   "metadata": {},
   "source": [
    "### fprint"
   ]
  },
  {
   "cell_type": "code",
   "execution_count": null,
   "metadata": {
    "ExecuteTime": {
     "end_time": "2024-11-16T15:54:10.973090Z",
     "start_time": "2024-11-16T15:54:10.967890Z"
    }
   },
   "outputs": [],
   "source": [
    "x = 5\n",
    "y = 10\n",
    "\n",
    "vysledek = x + y\n",
    "print(f'Součet čísel {x} a {y} je {vysledek}')"
   ]
  },
  {
   "cell_type": "code",
   "execution_count": null,
   "metadata": {
    "ExecuteTime": {
     "end_time": "2024-11-16T15:59:57.922925Z",
     "start_time": "2024-11-16T15:59:57.883916Z"
    }
   },
   "outputs": [],
   "source": [
    "muj_list = ['kočka', 'pes', 'kocour']\n",
    "muj_list = ['kure'] + muj_list[1:] + ['prase']\n",
    "muj_list"
   ]
  },
  {
   "cell_type": "code",
   "execution_count": null,
   "metadata": {
    "id": "7DyxK3zO33mJ"
   },
   "outputs": [],
   "source": [
    "customer_name = \"Dominik\""
   ]
  },
  {
   "cell_type": "markdown",
   "metadata": {
    "id": "Q6kY_J8G3HNq"
   },
   "source": [
    "---\n",
    "\n",
    "#### Názvy proměnných\n",
    "\n",
    "Proměnné by vždy měly dávat smysl již dle názvu.\n",
    "Zároveň by název proměnné **neměla** obsahovat pouze jeden znak."
   ]
  },
  {
   "cell_type": "code",
   "execution_count": null,
   "metadata": {
    "id": "W3zY0B1e3c-S"
   },
   "outputs": [],
   "source": [
    "koren_x1 = 25\n",
    "koren_x2 = 30"
   ]
  },
  {
   "cell_type": "markdown",
   "metadata": {
    "id": "Z7c3AOMbvx9a"
   },
   "source": [
    "---\n",
    "\n",
    "#### **Tisknutí výsledků**\n",
    "Používáme příkaz `print()`, do kterého vložíme text či proměnnou, kterou chceme vypsat.\n"
   ]
  },
  {
   "cell_type": "code",
   "execution_count": null,
   "metadata": {
    "id": "S2P64T4xvxpE"
   },
   "outputs": [],
   "source": [
    "print(\"Vypisuji text\")"
   ]
  },
  {
   "cell_type": "markdown",
   "metadata": {
    "id": "Zcmdwh_0wENF"
   },
   "source": [
    "Můžu vypsat také **proměnnou** a to pomocí 2 způsobů:\n",
    "1. format\n",
    "2. f-string"
   ]
  },
  {
   "cell_type": "code",
   "execution_count": null,
   "metadata": {
    "id": "n93lYJkWwJTm"
   },
   "outputs": [],
   "source": [
    "promenna = 5\n",
    "print(\"Mé číslo je: {}\".format(promenna))"
   ]
  },
  {
   "cell_type": "markdown",
   "metadata": {
    "id": "Hje97G8vwbp6"
   },
   "source": [
    "Použití f-stringů, které se v Pythonu objevily od verze 3.6 jsou přehlednější a jednodušší k použití"
   ]
  },
  {
   "cell_type": "code",
   "execution_count": null,
   "metadata": {
    "id": "WUhayOjdwm4t"
   },
   "outputs": [],
   "source": [
    "print(f\"Mé číslo je: {promenna}\")"
   ]
  },
  {
   "cell_type": "code",
   "execution_count": 165,
   "metadata": {},
   "outputs": [
    {
     "name": "stdout",
     "output_type": "stream",
     "text": [
      "\n",
      "1. řádek\n",
      "2. řádek\n",
      "3. řádek\n",
      "4. řádek\n",
      "5. řádek\n",
      "    \n"
     ]
    }
   ],
   "source": [
    "print(\"\"\"\n",
    "1. řádek\n",
    "2. řádek\n",
    "3. řádek\n",
    "4. řádek\n",
    "5. řádek\n",
    "    \"\"\")"
   ]
  },
  {
   "cell_type": "markdown",
   "metadata": {
    "id": "yqB36x6FPWuu"
   },
   "source": [
    "---\n",
    "\n",
    "#### **Možnosti zápisu stringů**\n",
    "Pro zápis stringů máme 3 možnosti:\n",
    "1. dvojité uvozovky - `\"Text\"`\n",
    "2. Jednoduché uvozovky - `'Text'`\n",
    "3. Trojité uvozovky - `\"\"\"Text\"\"\"'` či `'''Text'''`\n",
    "\n",
    "Trojité uvozovky slouží k víceřádkovému zápisu\n"
   ]
  },
  {
   "cell_type": "code",
   "execution_count": 166,
   "metadata": {},
   "outputs": [
    {
     "name": "stdout",
     "output_type": "stream",
     "text": [
      "That's a dog\n"
     ]
    }
   ],
   "source": [
    "print(\"That's a dog\")"
   ]
  },
  {
   "cell_type": "code",
   "execution_count": 167,
   "metadata": {
    "id": "YsH1OhS3QBxv"
   },
   "outputs": [
    {
     "name": "stdout",
     "output_type": "stream",
     "text": [
      "\n",
      "    Toto je víceřádkový string - řádek 1\n",
      "    řádek 2\n",
      "    \n"
     ]
    }
   ],
   "source": [
    "print(\n",
    "    \"\"\"\n",
    "    Toto je víceřádkový string - řádek 1\n",
    "    řádek 2\n",
    "    \"\"\"\n",
    "    )"
   ]
  },
  {
   "cell_type": "markdown",
   "metadata": {
    "id": "uZ8vKqtpoe9N"
   },
   "source": [
    "---\n",
    "\n",
    "#### **Speciální znaky**\n",
    "1.   `\\'`\t**apostrof**\n",
    "2.   `\\\\`\tzpětné lomítko\n",
    "3.   `\\n`\t**nový řádek**\n",
    "4.   `\\r`\tnávrat vozíku\n",
    "5.   `\\t`\t**tabulátor**\n",
    "6.   `\\b`\tnávrat o jeden znak\n",
    "7.   `\\f`\todstránkování"
   ]
  },
  {
   "cell_type": "markdown",
   "metadata": {},
   "source": [
    "\\t - tabulátor"
   ]
  },
  {
   "cell_type": "code",
   "execution_count": 169,
   "metadata": {},
   "outputs": [
    {
     "name": "stdout",
     "output_type": "stream",
     "text": [
      "Číslo jedna\tČíslo dvě\tČíslo tři\n"
     ]
    }
   ],
   "source": [
    "print(\"Číslo jedna\\tČíslo dvě\\tČíslo tři\")"
   ]
  },
  {
   "cell_type": "markdown",
   "metadata": {},
   "source": [
    "\\n - nový řádek"
   ]
  },
  {
   "cell_type": "code",
   "execution_count": 171,
   "metadata": {},
   "outputs": [
    {
     "name": "stdout",
     "output_type": "stream",
     "text": [
      "Tohle je první věta.\n",
      "\n",
      "Tohle je druhá věta\n"
     ]
    }
   ],
   "source": [
    "print(\"Tohle je první věta.\\n\\nTohle je druhá věta\")"
   ]
  },
  {
   "cell_type": "code",
   "execution_count": null,
   "metadata": {
    "colab": {
     "base_uri": "https://localhost:8080/"
    },
    "id": "qHBEh6SnoaEF",
    "outputId": "db32329e-3769-449a-f360-9000316cdb26"
   },
   "outputs": [],
   "source": [
    "print(\"That's him!\")"
   ]
  },
  {
   "cell_type": "code",
   "execution_count": null,
   "metadata": {
    "id": "u5HSj552s67j"
   },
   "outputs": [],
   "source": [
    "print('That\\'s him!')"
   ]
  },
  {
   "cell_type": "code",
   "execution_count": null,
   "metadata": {
    "colab": {
     "base_uri": "https://localhost:8080/"
    },
    "id": "VNoHGQSFpQn6",
    "outputId": "289d57d4-151e-426d-a220-f775414fd2cc"
   },
   "outputs": [],
   "source": [
    "print('That\\'s him!')"
   ]
  },
  {
   "cell_type": "markdown",
   "metadata": {
    "id": "fy-qKrFkpcNf"
   },
   "source": [
    "#### **Spojování stringů**\n",
    "\n",
    "---\n",
    "\n",
    "Operátor + u číselných typů provede součet. Můžeme je použít i u stringů. Zde neplní účel sčítání, ale za účel spojování stringů:\n"
   ]
  },
  {
   "cell_type": "code",
   "execution_count": 172,
   "metadata": {
    "id": "dn9ULbVepusJ"
   },
   "outputs": [],
   "source": [
    "slovo_1 = \"10,11,12\"\n",
    "slovo_2 = \",13,14,15\""
   ]
  },
  {
   "cell_type": "code",
   "execution_count": 173,
   "metadata": {
    "colab": {
     "base_uri": "https://localhost:8080/",
     "height": 35
    },
    "id": "IHElEfe9pzP0",
    "outputId": "e44bcdcd-141f-4748-d347-1087e401562c"
   },
   "outputs": [
    {
     "data": {
      "text/plain": [
       "'10,11,12,13,14,15'"
      ]
     },
     "execution_count": 173,
     "metadata": {},
     "output_type": "execute_result"
    }
   ],
   "source": [
    "spojeni = slovo_1 + slovo_2\n",
    "spojeni"
   ]
  },
  {
   "cell_type": "markdown",
   "metadata": {
    "id": "_1-5o0WzTDMY"
   },
   "source": [
    "---\n",
    "\n",
    "#### **Práce se stringy a proměnnými**\n",
    "Stringy (i proměnné jiných datových typů) se dají spojovat pomocí operandu `+`.\n",
    "\n",
    "Další metodou je deklarování těchto proměnných přímo v rámci syntaxe pro výpis, využívajíc přitom formátovací řetězce, známé jako f-stringy\n"
   ]
  },
  {
   "cell_type": "code",
   "execution_count": 174,
   "metadata": {
    "id": "6-d_mjkfTIze"
   },
   "outputs": [
    {
     "data": {
      "text/plain": [
       "'Toto je modul Pythonu.'"
      ]
     },
     "execution_count": 174,
     "metadata": {},
     "output_type": "execute_result"
    }
   ],
   "source": [
    "string_1 = \"Toto \"\n",
    "string_2 = \"je \"\n",
    "string_3 = \"modul \"\n",
    "string_4 = \"Pythonu.\"\n",
    "\n",
    "cely_text = string_1+string_2+string_3+string_4\n",
    "cely_text"
   ]
  },
  {
   "cell_type": "markdown",
   "metadata": {
    "id": "xh7l3ffIT-PK"
   },
   "source": [
    "Použití f-stringu"
   ]
  },
  {
   "cell_type": "code",
   "execution_count": 176,
   "metadata": {
    "id": "QSpMcpKUTX0i"
   },
   "outputs": [
    {
     "name": "stdout",
     "output_type": "stream",
     "text": [
      "Toto je modul Pythonu.\n",
      "Spojený text:\tToto je modul Pythonu.\n"
     ]
    }
   ],
   "source": [
    "print(f\"{string_1}{string_2}{string_3}{string_4}\")\n",
    "\n",
    "print(f\"Spojený text:\\t{string_1}{string_2}{string_3}{string_4}\")"
   ]
  },
  {
   "cell_type": "code",
   "execution_count": 179,
   "metadata": {},
   "outputs": [
    {
     "data": {
      "text/plain": [
       "'Adresa: Brno 61300'"
      ]
     },
     "execution_count": 179,
     "metadata": {},
     "output_type": "execute_result"
    }
   ],
   "source": [
    "psc = 61300\n",
    "mesto = \"Brno\"\n",
    "\n",
    "adresa = f\"Adresa: {mesto} {psc}\"\n",
    "adresa"
   ]
  },
  {
   "cell_type": "markdown",
   "metadata": {
    "id": "iVAyf10BRIFc"
   },
   "source": [
    "---\n",
    "#### **Úkol**\n",
    "Vytvořte celkem 2 proměnné. Do první proměnné `name` uložte vaše jméno, do druhé proměnné `surname` uložte vaše příjmení.\n",
    "Tyto dvě proměnné vytiskněte tak, aby se na jednom řádku vytisklo vaše jméno a příjmení i s mezerou mezi slovy (např. `Dominik Šmída`)"
   ]
  },
  {
   "cell_type": "code",
   "execution_count": 181,
   "metadata": {},
   "outputs": [
    {
     "name": "stdout",
     "output_type": "stream",
     "text": [
      "Dominik Šmída\n"
     ]
    }
   ],
   "source": [
    "name = \"Dominik\"\n",
    "surname = \"Šmída\"\n",
    "\n",
    "print(f'{name} {surname}')"
   ]
  },
  {
   "cell_type": "markdown",
   "metadata": {},
   "source": [
    "##### funkce `input()`"
   ]
  },
  {
   "cell_type": "code",
   "execution_count": 184,
   "metadata": {},
   "outputs": [
    {
     "name": "stdout",
     "output_type": "stream",
     "text": [
      "Alexandris\n"
     ]
    }
   ],
   "source": [
    "jmeno = input('Zadej své jméno: ')\n",
    "\n",
    "print(jmeno)"
   ]
  },
  {
   "cell_type": "code",
   "execution_count": 186,
   "metadata": {},
   "outputs": [
    {
     "name": "stdout",
     "output_type": "stream",
     "text": [
      "\n",
      "Informace o pacientovi\n",
      "----------------------\n",
      "Jméno: Dominik,\n",
      "Příjmení: Šmída,\n",
      "Adresa: Brno,\n",
      "Popis nemoci: Bolí mě v krku\n",
      "\n"
     ]
    }
   ],
   "source": [
    "# Formulář pro sběr informací o pacientovi\n",
    "jmeno = input(\"Zadej své jméno: \")\n",
    "prijmeni = input(\"Zadej své příjmení: \")\n",
    "adresa = input(\"Zadej svojí adresu: \")\n",
    "popis_nemoci = input(\"Zadej důvod, proč jsi došel k lékaři: \")\n",
    "\n",
    "print(f\"\"\"\n",
    "Informace o pacientovi\n",
    "----------------------\n",
    "Jméno: {jmeno},\n",
    "Příjmení: {prijmeni},\n",
    "Adresa: {adresa},\n",
    "Popis nemoci: {popis_nemoci}\n",
    "\"\"\")"
   ]
  },
  {
   "cell_type": "code",
   "execution_count": 203,
   "metadata": {},
   "outputs": [
    {
     "name": "stdout",
     "output_type": "stream",
     "text": [
      "Je v rozsahu\n"
     ]
    }
   ],
   "source": [
    "input_cislo = int(\"20\")\n",
    "rozsah = list(range(1, 21)) # funkce , která umí generovat sekvenci čísel v požadovaném rozsahu\n",
    "\n",
    "if input_cislo in rozsah:\n",
    "    print(\"Je v rozsahu\")\n",
    "else:\n",
    "    print(\"Zadal mimo rozsah\")"
   ]
  },
  {
   "cell_type": "markdown",
   "metadata": {},
   "source": [
    "Příklad: uživatel zadá 5 čísel od 1 do 20"
   ]
  },
  {
   "cell_type": "code",
   "execution_count": 6,
   "metadata": {},
   "outputs": [
    {
     "name": "stdout",
     "output_type": "stream",
     "text": [
      "Uživatel opravdu zadal číslo\n",
      "Uživatel zadal číslo v rozsahu 1-20. Super.\n",
      "Uživatel opravdu zadal číslo\n",
      "Uživatel zadal číslo v rozsahu 1-20. Super.\n",
      "Uživatel opravdu zadal číslo\n",
      "Uživatel zadal číslo v rozsahu 1-20. Super.\n",
      "Uživatel nesplnil podmínky, nezadal číslo.\n",
      "Uživatel opravdu zadal číslo\n",
      "Uživatel zadal číslo v rozsahu 1-20. Super.\n",
      "\n",
      "Správně zadaná čísla jsou: ['1', '2', '3', '20']\n",
      "Špatně zadané vstupy jsou: ['blbost']\n",
      "Uživatel zadal celkem: 4 úspěšných vstupů, což je 80.0%.\n",
      "Uživatel zadal celkem: 1 neúspěšných vstupů.\n"
     ]
    }
   ],
   "source": [
    "pocitadlo = 5\n",
    "\n",
    "zadana_cisla = []\n",
    "spatne_vstupy = []\n",
    "\n",
    "while pocitadlo > 0:\n",
    "    input_cislo = input(\"Zadej číslo od 1 do 20\")   # Uživatel zadává číslo\n",
    "    if input_cislo.isdigit():                       # Zkontrolovat, jestli uživatel opravdu zadal číslo\n",
    "        print(\"Uživatel opravdu zadal číslo\")\n",
    "        if int(input_cislo) in list(range(1,21)):   # Provedeno přetypování na integer\n",
    "            print(\"Uživatel zadal číslo v rozsahu 1-20. Super.\")\n",
    "            zadana_cisla.append(input_cislo)        # Do listu ukládám správně zadané číslo\n",
    "        else:\n",
    "            print(\"Uživatel zadal číslo, ale mimo povolený rozsah. Škoda.\")\n",
    "            spatne_vstupy.append(input_cislo)       # Do listu špatných vstupů ukládám zadanou hodnotu\n",
    "    else:\n",
    "        print(\"Uživatel nesplnil podmínky, nezadal číslo.\")\n",
    "        spatne_vstupy.append(input_cislo)           # Do listu špatných vstupů ukládám zadanou hodnotu\n",
    "\n",
    "    pocitadlo -= 1  #pocitadlo = pocitadlo - 1\n",
    "\n",
    "# Počítám procento úspěšných vstupů\n",
    "procento_uspesnych_vstupu = len(zadana_cisla)/(len(zadana_cisla) + len(spatne_vstupy)) * 100\n",
    "\n",
    "print(f'\\nSprávně zadaná čísla jsou: {zadana_cisla}')\n",
    "print(f'Špatně zadané vstupy jsou: {spatne_vstupy}')\n",
    "print(f'Uživatel zadal celkem: {len(zadana_cisla)} úspěšných vstupů, což je {procento_uspesnych_vstupu}%.')\n",
    "print(f'Uživatel zadal celkem: {len(spatne_vstupy)} neúspěšných vstupů.')"
   ]
  },
  {
   "cell_type": "markdown",
   "metadata": {},
   "source": [
    "#### Indexování na stringu"
   ]
  },
  {
   "cell_type": "code",
   "execution_count": 10,
   "metadata": {},
   "outputs": [
    {
     "data": {
      "text/plain": [
       "'m'"
      ]
     },
     "execution_count": 10,
     "metadata": {},
     "output_type": "execute_result"
    }
   ],
   "source": [
    "text = \"Domov\"\n",
    "text[2]"
   ]
  },
  {
   "cell_type": "markdown",
   "metadata": {},
   "source": [
    "#### For cyklus nad stringem"
   ]
  },
  {
   "cell_type": "code",
   "execution_count": 11,
   "metadata": {},
   "outputs": [
    {
     "name": "stdout",
     "output_type": "stream",
     "text": [
      "D\n",
      "o\n",
      "m\n",
      "o\n",
      "v\n"
     ]
    }
   ],
   "source": [
    "text = \"Domov\"\n",
    "\n",
    "for znak in text:\n",
    "    print(znak)"
   ]
  },
  {
   "cell_type": "markdown",
   "metadata": {},
   "source": [
    "#### Příklad č. 1: Vytvořte proměnnou x a proměnnou y, ke každé přiřaďte jakékoliv číslo a poté vytvořte proměnnou, do které uložíte součet těchto dvou proměnných. Výsledek vypište na výstup"
   ]
  },
  {
   "cell_type": "code",
   "execution_count": 15,
   "metadata": {},
   "outputs": [
    {
     "name": "stdout",
     "output_type": "stream",
     "text": [
      "30 + 50 = 80\n"
     ]
    }
   ],
   "source": [
    "x = 30\n",
    "y = 50\n",
    "vysledek = x + y\n",
    "\n",
    "print(f'{x} + {y} = {vysledek}')"
   ]
  },
  {
   "cell_type": "markdown",
   "metadata": {},
   "source": [
    "Příklad č. 2: Vytvořte proměnnou datového typu list o 5 prvcích. Do proměné `nahodny_prvek` uložte třetí prvek z vytvořeného listu a ten vypište na výstupu"
   ]
  },
  {
   "cell_type": "code",
   "execution_count": 17,
   "metadata": {},
   "outputs": [
    {
     "name": "stdout",
     "output_type": "stream",
     "text": [
      "3\n"
     ]
    }
   ],
   "source": [
    "cisla = [1, 2, 3, 4, 5]\n",
    "\n",
    "prvek = cisla[2]\n",
    "\n",
    "print(prvek)"
   ]
  },
  {
   "cell_type": "markdown",
   "metadata": {},
   "source": [
    "##### Příklad č. 3: Vytvořte proměnnou datového typu list o 4 prvcích (pouze čísla). Každý prvek listu projděte a zkontrolujte, jestli je menší, než 20. Pokud ano, vypište na výstup menší než 20, pokud ne, vypište větší nebo rovno 20"
   ]
  },
  {
   "cell_type": "code",
   "execution_count": 21,
   "metadata": {},
   "outputs": [
    {
     "name": "stdout",
     "output_type": "stream",
     "text": [
      "Aktuální číslo: 20\n",
      "Číslo větší nebo rovno 20\n",
      "\n",
      "Aktuální číslo: 40\n",
      "Číslo větší nebo rovno 20\n",
      "\n",
      "Aktuální číslo: 50\n",
      "Číslo větší nebo rovno 20\n",
      "\n",
      "Aktuální číslo: 10\n",
      "Číslo je menší než 20\n",
      "\n"
     ]
    }
   ],
   "source": [
    "cisla = [20, 40, 50, 10]\n",
    "\n",
    "for cislo in cisla:\n",
    "    print(f'Aktuální číslo: {cislo}')\n",
    "    if cislo < 20:\n",
    "        print('Číslo je menší než 20\\n')\n",
    "    else:\n",
    "        print('Číslo větší nebo rovno 20\\n')"
   ]
  },
  {
   "cell_type": "markdown",
   "metadata": {},
   "source": [
    "##### Pro každý prvek v listu zvířata ověřte, zda-li se jedná o psa nebo ne. Pokud ano, na výstupu napište `Tento prvek je pes`, jinak nevypisujte nic. V podmínce zkuste prvek transformovat do malých písmen (lowercase)"
   ]
  },
  {
   "cell_type": "code",
   "execution_count": 27,
   "metadata": {},
   "outputs": [
    {
     "name": "stdout",
     "output_type": "stream",
     "text": [
      "\n",
      "Aktuální hodnota proměnné zvire: pes\n",
      "Tento prvek je pes\n",
      "\n",
      "Aktuální hodnota proměnné zvire: kočka\n",
      "\n",
      "Aktuální hodnota proměnné zvire: kočka\n",
      "\n",
      "Aktuální hodnota proměnné zvire: kůň\n",
      "\n",
      "Aktuální hodnota proměnné zvire: Pes\n",
      "Tento prvek je pes\n"
     ]
    }
   ],
   "source": [
    "zvirata = [\"pes\", \"kočka\", \"kočka\", \"kůň\", \"Pes\"]\n",
    "\n",
    "for zvire in zvirata:\n",
    "    print(f'\\nAktuální hodnota proměnné zvire: {zvire}')\n",
    "    if zvire.lower() == \"pes\":\n",
    "        print(\"Tento prvek je pes\")"
   ]
  },
  {
   "cell_type": "markdown",
   "metadata": {},
   "source": [
    "### Funkce"
   ]
  },
  {
   "cell_type": "code",
   "execution_count": 28,
   "metadata": {},
   "outputs": [],
   "source": [
    "def napis_ahoj():\n",
    "    return 'Ahoj světe.'"
   ]
  },
  {
   "cell_type": "code",
   "execution_count": 35,
   "metadata": {},
   "outputs": [],
   "source": [
    "def secti_hodnoty(a:int, b:int) -> int:\n",
    "    \"\"\"Funkce sčítá vždy právě 2 hodnoty, které se předávají jako argumenty funkce.\"\"\"\n",
    "    return a + b"
   ]
  },
  {
   "cell_type": "code",
   "execution_count": null,
   "metadata": {},
   "outputs": [],
   "source": [
    "def spocitej_prumer(hodnoty: list) -> float:\n",
    "    \"\"\" Funkce počítá průměrnou hodnotu z listu hodnot.\"\"\"\n",
    "    return sum(hodnoty) / len(hodnoty)"
   ]
  },
  {
   "cell_type": "code",
   "execution_count": 50,
   "metadata": {},
   "outputs": [],
   "source": [
    "def validuj_email(email: str, hledany_znak: str) -> str:\n",
    "    \"\"\" Funkce přijímá email a hledaný znak a ověřuje, zda-li je email validní oproti hledanému znaku. \\nFunkce vrací resumé\"\"\"\n",
    "    if hledany_znak in email:\n",
    "        return print('Email je OK')\n",
    "    else:\n",
    "        return print('Nevalidní email')"
   ]
  },
  {
   "cell_type": "code",
   "execution_count": 51,
   "metadata": {},
   "outputs": [
    {
     "name": "stdout",
     "output_type": "stream",
     "text": [
      "Email je OK\n",
      "Email je OK\n",
      "Email je OK\n",
      "Nevalidní email\n"
     ]
    }
   ],
   "source": [
    "adresy = [\"test@test.cz\", \"test1@test.cz\", \"test2@test.cz\", \"nevalidni.cz\"]\n",
    "\n",
    "for adresa in adresy:\n",
    "    validuj_email(email=adresa, hledany_znak=\"@\")"
   ]
  },
  {
   "cell_type": "code",
   "execution_count": 41,
   "metadata": {},
   "outputs": [
    {
     "name": "stdout",
     "output_type": "stream",
     "text": [
      "Je tam zavináč\n"
     ]
    }
   ],
   "source": [
    "adresy = [\"test@test.cz\", \"test1@test.cz\", \"test2@test.cz\", \"nevalidni.cz\"]\n",
    "\n",
    "hledany_znak = \"@\"\n",
    "\n",
    "if hledany_znak in \"dominik@seznam.cz\":\n",
    "    print(\"Je tam zavináč\")\n",
    "else:\n",
    "    print(\"není tam\")"
   ]
  },
  {
   "cell_type": "code",
   "execution_count": 44,
   "metadata": {},
   "outputs": [
    {
     "name": "stdout",
     "output_type": "stream",
     "text": [
      "Není tam zavináč\n"
     ]
    }
   ],
   "source": [
    "if \"dominikseznam.cz\".count(\"@\") > 0:\n",
    "    print(\"Je tam zavináč\")\n",
    "else:\n",
    "    print(\"Není tam zavináč\")"
   ]
  },
  {
   "cell_type": "code",
   "execution_count": 39,
   "metadata": {},
   "outputs": [
    {
     "data": {
      "text/plain": [
       "27.5"
      ]
     },
     "execution_count": 39,
     "metadata": {},
     "output_type": "execute_result"
    }
   ],
   "source": [
    "hodnoty = [20, 20, 20, 50]\n",
    "\n",
    "spocitej_prumer(hodnoty)"
   ]
  },
  {
   "cell_type": "markdown",
   "metadata": {
    "id": "mwQLWlB2p9va"
   },
   "source": [
    "#### **Opakování**\n",
    "\n",
    "\n",
    "---\n",
    "\n",
    "Pomocí operátoru * můžeme násobit znaky (chars).\n"
   ]
  },
  {
   "cell_type": "code",
   "execution_count": null,
   "metadata": {
    "id": "7CjQqxblqDa8"
   },
   "outputs": [],
   "source": [
    "znak = '*'\n",
    "pronasobeni = 10 * znak\n",
    "print(pronasobeni)"
   ]
  },
  {
   "cell_type": "markdown",
   "metadata": {
    "id": "hX8xyV8sqY_J"
   },
   "source": [
    "#### **Indexování**\n",
    "\n",
    "---\n",
    "\n",
    "String je složený ze znaků, které mají své pořadí. Toto pořadí je určené  tzv. indexem, což je celé číslo. Pomocí tohoto indexu můžeme přistupovat na konkrétní znak stringu.\n",
    "Důležité: **Indexace začíná od nuly! Tzn. první znak v textu má vždy index 0!**"
   ]
  },
  {
   "cell_type": "code",
   "execution_count": null,
   "metadata": {
    "colab": {
     "base_uri": "https://localhost:8080/"
    },
    "id": "R95YXjiJqLgx",
    "outputId": "7d85dc3c-c287-4a72-ee8b-c41fc11ec3f4"
   },
   "outputs": [],
   "source": [
    "slovo = \"Neandrtálec\"\n",
    "prvni_pismeno = slovo[0]\n",
    "print(f\"Celé slovo: {slovo}\")\n",
    "print(f\"Poslední znak: {prvni_pismeno}\")"
   ]
  },
  {
   "cell_type": "markdown",
   "metadata": {
    "id": "3zaOlxphq6lL"
   },
   "source": [
    "Můžeme indexovat také odzadu"
   ]
  },
  {
   "cell_type": "code",
   "execution_count": null,
   "metadata": {
    "colab": {
     "base_uri": "https://localhost:8080/"
    },
    "id": "XBHvODw5qqHy",
    "outputId": "2cbd810c-f372-4705-ddcd-f7c3f41228a2"
   },
   "outputs": [],
   "source": [
    "posledni_pismeno = slovo[-1]\n",
    "print(f\"Celé slovo: {slovo}\")\n",
    "print(f\"Poslední znak: {posledni_pismeno}\")"
   ]
  }
 ],
 "metadata": {
  "colab": {
   "provenance": []
  },
  "kernelspec": {
   "display_name": "base",
   "language": "python",
   "name": "python3"
  },
  "language_info": {
   "codemirror_mode": {
    "name": "ipython",
    "version": 3
   },
   "file_extension": ".py",
   "mimetype": "text/x-python",
   "name": "python",
   "nbconvert_exporter": "python",
   "pygments_lexer": "ipython3",
   "version": "3.12.7"
  }
 },
 "nbformat": 4,
 "nbformat_minor": 1
}
